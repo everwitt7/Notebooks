{
 "cells": [
  {
   "cell_type": "code",
   "execution_count": 2,
   "metadata": {},
   "outputs": [],
   "source": [
    "import numpy\n",
    "import matplotlib.pyplot as plt"
   ]
  },
  {
   "cell_type": "code",
   "execution_count": 4,
   "metadata": {},
   "outputs": [
    {
     "data": {
      "text/plain": [
       "(array([9227., 7239., 7081., 7076., 7174., 7104., 7209., 7305., 7258.,\n",
       "        4740., 6943., 6639., 5753., 4433., 2617., 1291.,  580.,  236.,\n",
       "          77.,   18.]),\n",
       " array([ 0. ,  2.9,  5.8,  8.7, 11.6, 14.5, 17.4, 20.3, 23.2, 26.1, 29. ,\n",
       "        31.9, 34.8, 37.7, 40.6, 43.5, 46.4, 49.3, 52.2, 55.1, 58. ]),\n",
       " <BarContainer object of 20 artists>)"
      ]
     },
     "execution_count": 4,
     "metadata": {},
     "output_type": "execute_result"
    },
    {
     "data": {
      "image/png": "[encoded data removed]",
      "text/plain": [
       "<Figure size 432x288 with 1 Axes>"
      ]
     },
     "metadata": {
      "needs_background": "light"
     },
     "output_type": "display_data"
    }
   ],
   "source": [
    "size=21\n",
    "\n",
    "def moleStep(currentMoleIndex):\n",
    "    if currentMoleIndex==0:\n",
    "        nextMoleIndex = 1\n",
    "    elif currentMoleIndex==size-1:\n",
    "        nextMoleIndex = size-2\n",
    "    else:\n",
    "        if numpy.random.rand()<0.5:\n",
    "            nextMoleIndex = currentMoleIndex + 1\n",
    "        else:\n",
    "            nextMoleIndex = currentMoleIndex - 1\n",
    "    return nextMoleIndex\n",
    "\n",
    "\n",
    "class whacker:\n",
    "  def __init__(self):\n",
    "    self.index = numpy.random.randint(size)\n",
    "    self.dir = numpy.random.randint(2)*2-1\n",
    "    self.pauseBit=0\n",
    "\n",
    "  def step(self):\n",
    "    if self.index==0:\n",
    "        if self.pauseBit==0:\n",
    "            self.pauseBit=1\n",
    "        else:\n",
    "            self.index = 1\n",
    "            self.dir = 1\n",
    "            self.pauseBit=0\n",
    "    elif self.index==size-1:\n",
    "        if self.pauseBit==0:\n",
    "            self.pauseBit=1\n",
    "        else:\n",
    "            self.index = size-2\n",
    "            self.dir = -1\n",
    "            self.pauseBit=0\n",
    "    else:\n",
    "        if self.dir>0:\n",
    "            self.index = self.index + 1\n",
    "        else:\n",
    "            self.index = self.index - 1\n",
    "    return self.index\n",
    "\n",
    "\n",
    "\n",
    "def doExperiment():\n",
    "    mole = numpy.random.randint(size)\n",
    "    whac = whacker()\n",
    "\n",
    "    #print(\"iter = -1   mole = \", mole, \"  whac = \", whac.index, \"  difference = \", whac.index-mole)\n",
    "\n",
    "    for iter in range(100):\n",
    "        newMole = moleStep(mole)\n",
    "        newWhac = whac.step()\n",
    "        if newWhac==newMole:\n",
    "            #print(\"Mole is whached at iter \", iter,\".  Whack hit at \", newWhac, \" while mole was in \", newMole)\n",
    "            return iter\n",
    "        else:\n",
    "            #print(\"iter = \", iter, \"  newMole = \", newMole, \"  newWhac = \", newWhac, \"  difference = \", newWhac-newMole)\n",
    "            pass\n",
    "        mole = newMole\n",
    "\n",
    "\n",
    "results = []\n",
    "\n",
    "for experiment in range(100000):\n",
    "    newWhac = doExperiment()\n",
    "    results.append( newWhac )\n",
    "\n",
    "plt.hist(results, bins=size-1)"
   ]
  },
  {
   "cell_type": "code",
   "execution_count": null,
   "metadata": {},
   "outputs": [],
   "source": []
  }
 ],
 "metadata": {
  "kernelspec": {
   "display_name": "Python 3.9.12 ('scrap')",
   "language": "python",
   "name": "python3"
  },
  "language_info": {
   "codemirror_mode": {
    "name": "ipython",
    "version": 3
   },
   "file_extension": ".py",
   "mimetype": "text/x-python",
   "name": "python",
   "nbconvert_exporter": "python",
   "pygments_lexer": "ipython3",
   "version": "3.9.12"
  },
  "orig_nbformat": 4,
  "vscode": {
   "interpreter": {
    "hash": "b539a0fb181255ccf86513cab740af89dedc00188c90bf98ce2f70d0c4579e65"
   }
  }
 },
 "nbformat": 4,
 "nbformat_minor": 2
}
