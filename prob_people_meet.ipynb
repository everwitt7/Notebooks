{
 "cells": [
  {
   "cell_type": "code",
   "execution_count": 14,
   "id": "c9945a60-0dfe-4bff-8ba8-e27e197b5b14",
   "metadata": {},
   "outputs": [],
   "source": [
    "import numpy as np\n",
    "import matplotlib.pyplot as plt"
   ]
  },
  {
   "cell_type": "code",
   "execution_count": 15,
   "id": "30758179-f1fd-4138-a7df-ac5784e93e05",
   "metadata": {},
   "outputs": [
    {
     "data": {
      "text/plain": [
       "array([[1., 0., 0., 0., 0., 0., 0., 0.],\n",
       "       [0., 1., 0., 0., 0., 0., 0., 0.],\n",
       "       [0., 0., 1., 0., 0., 0., 0., 0.],\n",
       "       [0., 0., 0., 1., 0., 0., 0., 0.],\n",
       "       [0., 0., 0., 0., 1., 0., 0., 0.],\n",
       "       [0., 0., 0., 0., 0., 1., 0., 0.],\n",
       "       [0., 0., 0., 0., 0., 0., 1., 0.],\n",
       "       [0., 0., 0., 0., 0., 0., 0., 1.]])"
      ]
     },
     "execution_count": 15,
     "metadata": {},
     "output_type": "execute_result"
    }
   ],
   "source": [
    "n = 8\n",
    "lunch_arr = np.zeros((n,n))\n",
    "for i in range(n):\n",
    "    lunch_arr[i,i] = 1\n",
    "\n",
    "# we are done when at least one row is all 1s (anyone) and when all rows are all 1s (everyone)\n",
    "lunch_arr"
   ]
  },
  {
   "cell_type": "code",
   "execution_count": 16,
   "id": "4a5dfafe-a287-429a-ad19-a6b6008f0b06",
   "metadata": {},
   "outputs": [
    {
     "name": "stdout",
     "output_type": "stream",
     "text": [
      "[4 0 5 3 7 1 6 2]\n",
      "0.0\n",
      "0.0\n"
     ]
    },
    {
     "data": {
      "text/plain": [
       "array([4, 0, 5, 3, 7, 1, 6, 2])"
      ]
     },
     "execution_count": 16,
     "metadata": {},
     "output_type": "execute_result"
    }
   ],
   "source": [
    "def gen_rand_pair_table(people):\n",
    "    \"\"\"\n",
    "    given a number of people, generate all possible unique lunch combinations\n",
    "    \"\"\"\n",
    "    pass\n",
    "\n",
    "def gen_pair_idxs(lunch_arr):\n",
    "    n = lunch_arr.shape[0]\n",
    "    \n",
    "    while True:    \n",
    "        # generate random pairs to go to lunch\n",
    "        pairs = np.random.permutation(range(n))\n",
    "        print(pairs)\n",
    "        \n",
    "        # check for at least one unique pair\n",
    "        for idx in range(0, n, 2):\n",
    "            idx2 = idx + 1\n",
    "            \n",
    "            # there is a valid pair\n",
    "            print(lunch_arr[idx2, idx])\n",
    "            print(lunch_arr[idx, idx2])\n",
    "            if lunch_arr[idx, idx2] == 0 or lunch_arr[idx2, idx] == 0:\n",
    "                return pairs\n",
    "            \n",
    "        print(lunch_arr)\n",
    "        \n",
    "    \n",
    "\n",
    "gen_pair_idxs(lunch_arr)"
   ]
  },
  {
   "cell_type": "code",
   "execution_count": 17,
   "id": "fd394240-5d9b-4256-86be-eb635a81f087",
   "metadata": {},
   "outputs": [
    {
     "name": "stdout",
     "output_type": "stream",
     "text": [
      "True\n",
      "False\n"
     ]
    }
   ],
   "source": [
    "def anyone_winner(lunch_arr):\n",
    "    n = lunch_arr.shape[0]\n",
    "    for i in range(n):\n",
    "        if np.sum(lunch_arr[i, :]) == n:\n",
    "            return True\n",
    "    return False\n",
    "\n",
    "test_winner = np.array([\n",
    "    [1, 1, 1, 1],\n",
    "    [1, 1, 0, 0],\n",
    "    [0, 0, 0, 0],\n",
    "    [1, 0, 1, 0],\n",
    "])\n",
    "\n",
    "test_no_winner = np.array([\n",
    "    [1, 1, 0, 1],\n",
    "    [1, 1, 0, 0],\n",
    "    [0, 0, 0, 0],\n",
    "    [1, 0, 1, 0],\n",
    "])\n",
    "\n",
    "print(anyone_winner(test_winner))\n",
    "print(anyone_winner(test_no_winner))"
   ]
  },
  {
   "cell_type": "code",
   "execution_count": 18,
   "id": "51672647-9357-4447-9d62-7c7424c0ad7f",
   "metadata": {},
   "outputs": [],
   "source": [
    "def days_anyone_wins(lunch_arr):\n",
    "    days = 0\n",
    "    # while not anyone_winner(lunch_arr):\n",
    "    return 1\n",
    "    for _ in range(5):\n",
    "        pairs = gen_pair_idxs(lunch_arr)\n",
    "        print(\"after pairs \", days)\n",
    "        for idx in range(0, n, 2):\n",
    "            idx2 = idx + 1\n",
    "\n",
    "            # mark indices as eaten with each other\n",
    "            lunch_arr[idx, idx2] = 1\n",
    "            lunch_arr[idx2, idx] = 1\n",
    "\n",
    "        days += 1\n",
    "    return days\n",
    "\n",
    "\n",
    "def sim_days_anyone(people, sample=10_000):    \n",
    "    total_days = 0\n",
    "    for _ in range(sample):\n",
    "        # set the initial lunch array\n",
    "        lunch_arr = np.zeros((people, people))\n",
    "        for i in range(people):\n",
    "            lunch_arr[i,i] = 1\n",
    "        \n",
    "        # add the number of days it took to get a winner\n",
    "        total_days += days_anyone_wins(lunch_arr)\n",
    "    return total_days / sample "
   ]
  },
  {
   "cell_type": "code",
   "execution_count": 19,
   "id": "bb95d3a8-3bb5-4e31-81ee-1d9cbf86f71a",
   "metadata": {},
   "outputs": [
    {
     "data": {
      "text/plain": [
       "1.0"
      ]
     },
     "execution_count": 19,
     "metadata": {},
     "output_type": "execute_result"
    }
   ],
   "source": [
    "sim_days_anyone(8, sample=1)"
   ]
  },
  {
   "cell_type": "code",
   "execution_count": 34,
   "id": "862b7faa-1c9c-4edc-9a71-fb552f93ab31",
   "metadata": {},
   "outputs": [],
   "source": [
    "# 8 people get lunch in pairs (4 pairs) every day, how many days on average will it take until one person has had lunch with everyone else?\n",
    "def is_new_pair(pairs, visited):\n",
    "    for idx in range(0, len(pairs), 2):\n",
    "        p1 = pairs[idx]\n",
    "        p2 = pairs[idx+1]\n",
    "        if visited[p1][p2] == 0 or visited[p2][p1] == 0:\n",
    "            return True\n",
    "    return False\n",
    "\n",
    "def anyone_with_everyone(lunch_dates: dict):\n",
    "    for k, v in lunch_dates.items():\n",
    "        if sum(v) == len(lunch_dates):\n",
    "            return True\n",
    "    return False\n",
    "\n",
    "def everyone_with_everyone(lunch_dates: dict):\n",
    "    for k, v in lunch_dates.items():\n",
    "        if sum(v) != len(lunch_dates):\n",
    "            return False\n",
    "    return True\n",
    "\n",
    "def anyone_days(people):\n",
    "    # init dict\n",
    "    visited = {}\n",
    "    for p in range(people):\n",
    "        visited[p] = [0] * people\n",
    "        visited[p][p] = 1\n",
    "\n",
    "    days = 0\n",
    "    while not anyone_with_everyone(visited):\n",
    "        # randomly create pairings\n",
    "        pairs = np.random.permutation(range(people))\n",
    "        \n",
    "        # check to make sure there is at least one new pairing\n",
    "        new_pair = is_new_pair(pairs, visited)\n",
    "        \n",
    "        if not new_pair:\n",
    "            continue\n",
    "        \n",
    "        for idx in range(0, len(pairs), 2):\n",
    "            visited[pairs[idx]][pairs[idx+1]] = 1\n",
    "            visited[pairs[idx+1]][pairs[idx]] = 1\n",
    "        days += 1\n",
    "    \n",
    "    return days\n",
    "\n",
    "def everyone_days(people):\n",
    "    # init dict\n",
    "    visited = {}\n",
    "    for p in range(people):\n",
    "        visited[p] = [0] * people\n",
    "        visited[p][p] = 1\n",
    "\n",
    "    days = 0\n",
    "    while not everyone_with_everyone(visited):\n",
    "        pairs = np.random.permutation(range(people))\n",
    "        \n",
    "        new_pair = is_new_pair(pairs, visited)\n",
    "        \n",
    "        if not new_pair:\n",
    "            continue\n",
    "        \n",
    "        for idx in range(0, len(pairs), 2):\n",
    "            visited[pairs[idx]][pairs[idx+1]] = 1\n",
    "            visited[pairs[idx+1]][pairs[idx]] = 1\n",
    "        days += 1\n",
    "    \n",
    "    return days\n",
    "\n",
    "def sim_days_anyone(people, sample=10_000):\n",
    "    total_days = 0\n",
    "    for _ in range(sample):\n",
    "        total_days += anyone_days(people)\n",
    "    return total_days / sample\n",
    "\n",
    "def sim_days_everyone(people, sample=10_000):\n",
    "    total_days = 0\n",
    "    for _ in range(sample):\n",
    "        total_days += everyone_days(people)\n",
    "    return total_days / sample\n"
   ]
  },
  {
   "cell_type": "code",
   "execution_count": 35,
   "id": "fe3f81d5",
   "metadata": {},
   "outputs": [
    {
     "name": "stdout",
     "output_type": "stream",
     "text": [
      "9.2424\n",
      "13.6889\n"
     ]
    }
   ],
   "source": [
    "print(sim_days_anyone(8))\n",
    "print(sim_days_everyone(8))"
   ]
  },
  {
   "cell_type": "code",
   "execution_count": 36,
   "id": "16deeeb9",
   "metadata": {},
   "outputs": [
    {
     "name": "stdout",
     "output_type": "stream",
     "text": [
      "5.6736\n",
      "8.134\n"
     ]
    }
   ],
   "source": [
    "print(sim_days_anyone(6))\n",
    "print(sim_days_everyone(6))"
   ]
  },
  {
   "cell_type": "code",
   "execution_count": 37,
   "id": "3321d83c",
   "metadata": {},
   "outputs": [
    {
     "name": "stdout",
     "output_type": "stream",
     "text": [
      "3.0\n",
      "3.0\n"
     ]
    }
   ],
   "source": [
    "print(sim_days_anyone(4))\n",
    "print(sim_days_everyone(4))"
   ]
  },
  {
   "cell_type": "code",
   "execution_count": 7,
   "id": "721b754f",
   "metadata": {},
   "outputs": [
    {
     "data": {
      "text/plain": [
       "4"
      ]
     },
     "execution_count": 7,
     "metadata": {},
     "output_type": "execute_result"
    }
   ],
   "source": [
    "# represent the number as a byte!\n",
    "x = np.int8(4)\n",
    "x"
   ]
  },
  {
   "cell_type": "code",
   "execution_count": 8,
   "id": "2dd65b4b",
   "metadata": {},
   "outputs": [
    {
     "data": {
      "text/plain": [
       "'0b100'"
      ]
     },
     "execution_count": 8,
     "metadata": {},
     "output_type": "execute_result"
    }
   ],
   "source": [
    "bin(x)"
   ]
  },
  {
   "cell_type": "code",
   "execution_count": 9,
   "id": "9324324a",
   "metadata": {},
   "outputs": [
    {
     "data": {
      "text/plain": [
       "'0b110'"
      ]
     },
     "execution_count": 9,
     "metadata": {},
     "output_type": "execute_result"
    }
   ],
   "source": [
    "bin(x+2)"
   ]
  },
  {
   "cell_type": "code",
   "execution_count": 10,
   "id": "74c28d21",
   "metadata": {},
   "outputs": [],
   "source": [
    "# 2^person and add that to the number..."
   ]
  },
  {
   "cell_type": "code",
   "execution_count": 12,
   "id": "78e9ae8b",
   "metadata": {},
   "outputs": [
    {
     "data": {
      "text/plain": [
       "(array([  0.,   0.,   0.,   0.,   0.,   0.,   0.,  55., 164., 329., 485.,\n",
       "        602., 631., 689., 741., 659., 673., 580., 522., 466., 418., 412.,\n",
       "        353., 287., 283., 222., 190., 173., 151., 143., 116.,  84.,  81.,\n",
       "         77.,  57.,  43.,  44.,  36.,  26.,  38.,  25.,  16.,  17.,  23.,\n",
       "         14.,   5.,   6.,   8.,  12.,   5.,   4.,   4.,   6.,   2.,   4.,\n",
       "          1.,   3.,   3.,   2.]),\n",
       " array([ 0,  1,  2,  3,  4,  5,  6,  7,  8,  9, 10, 11, 12, 13, 14, 15, 16,\n",
       "        17, 18, 19, 20, 21, 22, 23, 24, 25, 26, 27, 28, 29, 30, 31, 32, 33,\n",
       "        34, 35, 36, 37, 38, 39, 40, 41, 42, 43, 44, 45, 46, 47, 48, 49, 50,\n",
       "        51, 52, 53, 54, 55, 56, 57, 58, 59]),\n",
       " <BarContainer object of 59 artists>)"
      ]
     },
     "execution_count": 12,
     "metadata": {},
     "output_type": "execute_result"
    },
    {
     "data": {
      "image/png": "[encoded data removed]",
      "text/plain": [
       "<Figure size 1080x720 with 1 Axes>"
      ]
     },
     "metadata": {
      "needs_background": "light"
     },
     "output_type": "display_data"
    }
   ],
   "source": [
    "def doPickExperiment():\n",
    "    marblePicks = np.zeros(7)\n",
    "    for pick in range(1, 10000):\n",
    "        pickedMarble=np.random.randint(7)\n",
    "        marblePicks[pickedMarble]+=1\n",
    "        if (marblePicks>0).sum()==7:\n",
    "            return pick\n",
    "\n",
    "\n",
    "results=[]\n",
    "for experiment in range(10000):\n",
    "    results.append(doPickExperiment())\n",
    "\n",
    "\n",
    "\n",
    "plt.figure(figsize=[15,10])\n",
    "plt.hist(results, bins=range(0,60) )"
   ]
  },
  {
   "cell_type": "code",
   "execution_count": 13,
   "id": "4177bb8d",
   "metadata": {},
   "outputs": [
    {
     "data": {
      "text/plain": [
       "18.149999999999995"
      ]
     },
     "execution_count": 13,
     "metadata": {},
     "output_type": "execute_result"
    }
   ],
   "source": [
    "np.sum([1./(1-1.*i/7) for i in range(0,7) ])"
   ]
  },
  {
   "cell_type": "code",
   "execution_count": null,
   "id": "a0ea554f",
   "metadata": {},
   "outputs": [],
   "source": []
  }
 ],
 "metadata": {
  "kernelspec": {
   "display_name": "Python 3 (ipykernel)",
   "language": "python",
   "name": "python3"
  },
  "language_info": {
   "codemirror_mode": {
    "name": "ipython",
    "version": 3
   },
   "file_extension": ".py",
   "mimetype": "text/x-python",
   "name": "python",
   "nbconvert_exporter": "python",
   "pygments_lexer": "ipython3",
   "version": "3.8.11"
  },
  "vscode": {
   "interpreter": {
    "hash": "b539a0fb181255ccf86513cab740af89dedc00188c90bf98ce2f70d0c4579e65"
   }
  }
 },
 "nbformat": 4,
 "nbformat_minor": 5
}
