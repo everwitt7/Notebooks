{
 "cells": [
  {
   "cell_type": "code",
   "execution_count": 227,
   "id": "73a6c392-f7da-4d73-8a2b-9dd23e5a1c1f",
   "metadata": {},
   "outputs": [],
   "source": [
    "# from:\n",
    "# https://github.com/rougier/numpy-100/blob/master/100_Numpy_exercises_with_solutions.md"
   ]
  },
  {
   "cell_type": "code",
   "execution_count": 2,
   "id": "cbc86921-cc1d-4e21-96ed-2e02dee4826e",
   "metadata": {},
   "outputs": [],
   "source": [
    "#### 1. Import the numpy package under the name `np` (★☆☆)\n",
    "import numpy as np"
   ]
  },
  {
   "cell_type": "code",
   "execution_count": 3,
   "id": "201ee1e7",
   "metadata": {},
   "outputs": [
    {
     "data": {
      "text/plain": [
       "array([1, 2, 3, 4, 5, 6, 7, 8, 9])"
      ]
     },
     "execution_count": 3,
     "metadata": {},
     "output_type": "execute_result"
    }
   ],
   "source": [
    "x = np.arange(1, 10)\n",
    "x"
   ]
  },
  {
   "cell_type": "code",
   "execution_count": 15,
   "id": "54723b6a",
   "metadata": {},
   "outputs": [
    {
     "data": {
      "text/plain": [
       "array([0.   , 0.693, 1.099, 1.386, 1.609, 1.792, 1.946, 2.079, 2.197])"
      ]
     },
     "execution_count": 15,
     "metadata": {},
     "output_type": "execute_result"
    }
   ],
   "source": [
    "y = np.round(np.log(x), 3)\n",
    "y"
   ]
  },
  {
   "cell_type": "code",
   "execution_count": 11,
   "id": "e1784216",
   "metadata": {},
   "outputs": [
    {
     "name": "stdout",
     "output_type": "stream",
     "text": [
      "[1 1 1 1 1 1 1 1]\n",
      "[0.69315 0.40546 0.28768 0.22315 0.18232 0.15415 0.13353 0.11778]\n"
     ]
    }
   ],
   "source": [
    "print(x[1:] - x[0:-1])\n",
    "y_diff = y[1:] - y[0:-1]\n",
    "print(y_diff)"
   ]
  },
  {
   "cell_type": "code",
   "execution_count": 12,
   "id": "8544cc52",
   "metadata": {},
   "outputs": [
    {
     "name": "stdout",
     "output_type": "stream",
     "text": [
      "8 8.574187700290345\n",
      "256 274.374006409291\n"
     ]
    }
   ],
   "source": [
    "print(2**3, 2**3.1)\n",
    "print(2**8, 2**8.1)"
   ]
  },
  {
   "cell_type": "code",
   "execution_count": 5,
   "id": "4cc3606a-c390-45d5-acce-55de5e57b1e8",
   "metadata": {},
   "outputs": [
    {
     "name": "stdout",
     "output_type": "stream",
     "text": [
      "1.23.2\n",
      "blas_armpl_info:\n",
      "  NOT AVAILABLE\n",
      "blas_mkl_info:\n",
      "  NOT AVAILABLE\n",
      "blis_info:\n",
      "  NOT AVAILABLE\n",
      "openblas_info:\n",
      "    libraries = ['openblas', 'openblas']\n",
      "    library_dirs = ['/opt/homebrew/opt/openblas/lib']\n",
      "    language = c\n",
      "    define_macros = [('HAVE_CBLAS', None)]\n",
      "blas_opt_info:\n",
      "    libraries = ['openblas', 'openblas']\n",
      "    library_dirs = ['/opt/homebrew/opt/openblas/lib']\n",
      "    language = c\n",
      "    define_macros = [('HAVE_CBLAS', None)]\n",
      "lapack_armpl_info:\n",
      "  NOT AVAILABLE\n",
      "lapack_mkl_info:\n",
      "  NOT AVAILABLE\n",
      "openblas_lapack_info:\n",
      "    libraries = ['openblas', 'openblas']\n",
      "    library_dirs = ['/opt/homebrew/opt/openblas/lib']\n",
      "    language = c\n",
      "    define_macros = [('HAVE_CBLAS', None)]\n",
      "lapack_opt_info:\n",
      "    libraries = ['openblas', 'openblas']\n",
      "    library_dirs = ['/opt/homebrew/opt/openblas/lib']\n",
      "    language = c\n",
      "    define_macros = [('HAVE_CBLAS', None)]\n",
      "Supported SIMD extensions in this NumPy install:\n",
      "    baseline = NEON,NEON_FP16,NEON_VFPV4,ASIMD\n",
      "    found = ASIMDHP,ASIMDDP\n",
      "    not found = ASIMDFHM\n",
      "None\n"
     ]
    }
   ],
   "source": [
    "#### 2. Print the numpy version and the configuration (★☆☆)\n",
    "print(np.__version__)\n",
    "print(np.show_config())"
   ]
  },
  {
   "cell_type": "code",
   "execution_count": 7,
   "id": "9f92dcb5-f8c9-4c29-8565-ca2160e192d3",
   "metadata": {},
   "outputs": [
    {
     "data": {
      "text/plain": [
       "array([0., 0., 0., 0., 0., 0., 0., 0., 0., 0.])"
      ]
     },
     "execution_count": 7,
     "metadata": {},
     "output_type": "execute_result"
    }
   ],
   "source": [
    "#### 3. Create a null vector of size 10 (★☆☆)\n",
    "np.zeros(10)"
   ]
  },
  {
   "cell_type": "code",
   "execution_count": 18,
   "id": "837bae27-9413-4ace-b7d5-67c18e102a56",
   "metadata": {},
   "outputs": [
    {
     "name": "stdout",
     "output_type": "stream",
     "text": [
      "10\n",
      "8\n",
      "8\n"
     ]
    }
   ],
   "source": [
    "#### 4. How to find the memory size of any array (★☆☆)\n",
    "print(np.zeros(10).size) # how many items are in the array (shape multiplication)\n",
    "print(np.zeros(10).itemsize) # we are using 8 byte (32 bit) integers\n",
    "print(np.zeros(10, dtype=float).itemsize) # floats are 32 bit too..."
   ]
  },
  {
   "cell_type": "code",
   "execution_count": 25,
   "id": "7a30b50e-1fa1-4159-87ee-c83c6a19869b",
   "metadata": {},
   "outputs": [
    {
     "name": "stdout",
     "output_type": "stream",
     "text": [
      "Help on ufunc:\n",
      "\n",
      "add = <ufunc 'add'>\n",
      "    add(x1, x2, /, out=None, *, where=True, casting='same_kind', order='K', dtype=None, subok=True[, signature, extobj])\n",
      "    \n",
      "    Add arguments element-wise.\n",
      "    \n",
      "    Parameters\n",
      "    ----------\n",
      "    x1, x2 : array_like\n",
      "        The arrays to be added.\n",
      "        If ``x1.shape != x2.shape``, they must be broadcastable to a common\n",
      "        shape (which becomes the shape of the output).\n",
      "    out : ndarray, None, or tuple of ndarray and None, optional\n",
      "        A location into which the result is stored. If provided, it must have\n",
      "        a shape that the inputs broadcast to. If not provided or None,\n",
      "        a freshly-allocated array is returned. A tuple (possible only as a\n",
      "        keyword argument) must have length equal to the number of outputs.\n",
      "    where : array_like, optional\n",
      "        This condition is broadcast over the input. At locations where the\n",
      "        condition is True, the `out` array will be set to the ufunc result.\n",
      "        Elsewhere, the `out` array will retain its original value.\n",
      "        Note that if an uninitialized `out` array is created via the default\n",
      "        ``out=None``, locations within it where the condition is False will\n",
      "        remain uninitialized.\n",
      "    **kwargs\n",
      "        For other keyword-only arguments, see the\n",
      "        :ref:`ufunc docs <ufuncs.kwargs>`.\n",
      "    \n",
      "    Returns\n",
      "    -------\n",
      "    add : ndarray or scalar\n",
      "        The sum of `x1` and `x2`, element-wise.\n",
      "        This is a scalar if both `x1` and `x2` are scalars.\n",
      "    \n",
      "    Notes\n",
      "    -----\n",
      "    Equivalent to `x1` + `x2` in terms of array broadcasting.\n",
      "    \n",
      "    Examples\n",
      "    --------\n",
      "    >>> np.add(1.0, 4.0)\n",
      "    5.0\n",
      "    >>> x1 = np.arange(9.0).reshape((3, 3))\n",
      "    >>> x2 = np.arange(3.0)\n",
      "    >>> np.add(x1, x2)\n",
      "    array([[  0.,   2.,   4.],\n",
      "           [  3.,   5.,   7.],\n",
      "           [  6.,   8.,  10.]])\n",
      "    \n",
      "    The ``+`` operator can be used as a shorthand for ``np.add`` on ndarrays.\n",
      "    \n",
      "    >>> x1 = np.arange(9.0).reshape((3, 3))\n",
      "    >>> x2 = np.arange(3.0)\n",
      "    >>> x1 + x2\n",
      "    array([[ 0.,  2.,  4.],\n",
      "           [ 3.,  5.,  7.],\n",
      "           [ 6.,  8., 10.]])\n",
      "\n",
      "None\n"
     ]
    }
   ],
   "source": [
    "#### 5. How to get the documentation of the numpy add function\n",
    "print(help(np.add))\n",
    "# or \n",
    "# np.info(np.add)"
   ]
  },
  {
   "cell_type": "code",
   "execution_count": 26,
   "id": "3ca3d3d6-0780-42db-a320-43a24ad9c083",
   "metadata": {},
   "outputs": [
    {
     "data": {
      "text/plain": [
       "array([0., 0., 0., 0., 1., 0., 0., 0., 0., 0.])"
      ]
     },
     "execution_count": 26,
     "metadata": {},
     "output_type": "execute_result"
    }
   ],
   "source": [
    "#### 6. Create a null vector of size 10 but the fifth value which is 1 (★☆☆)\n",
    "x = np.zeros(10)\n",
    "x[4] = 1\n",
    "x"
   ]
  },
  {
   "cell_type": "code",
   "execution_count": 27,
   "id": "44c5a07d-e0d1-433b-bc68-288aef92804b",
   "metadata": {},
   "outputs": [
    {
     "data": {
      "text/plain": [
       "array([10, 11, 12, 13, 14, 15, 16, 17, 18, 19, 20, 21, 22, 23, 24, 25, 26,\n",
       "       27, 28, 29, 30, 31, 32, 33, 34, 35, 36, 37, 38, 39, 40, 41, 42, 43,\n",
       "       44, 45, 46, 47, 48, 49])"
      ]
     },
     "execution_count": 27,
     "metadata": {},
     "output_type": "execute_result"
    }
   ],
   "source": [
    "#### 7. Create a vector with values ranging from 10 to 49 (★☆☆)\n",
    "np.arange(10, 50, 1)"
   ]
  },
  {
   "cell_type": "code",
   "execution_count": 29,
   "id": "0eacf0c5-98e0-4db6-90cf-c6ed81aebd42",
   "metadata": {},
   "outputs": [
    {
     "data": {
      "text/plain": [
       "array([49, 48, 47, 46, 45, 44, 43, 42, 41, 40, 39, 38, 37, 36, 35, 34, 33,\n",
       "       32, 31, 30, 29, 28, 27, 26, 25, 24, 23, 22, 21, 20, 19, 18, 17, 16,\n",
       "       15, 14, 13, 12, 11, 10])"
      ]
     },
     "execution_count": 29,
     "metadata": {},
     "output_type": "execute_result"
    }
   ],
   "source": [
    "#### 8. Reverse a vector (first element becomes last) (★☆☆)\n",
    "np.arange(10, 50, 1)[::-1]"
   ]
  },
  {
   "cell_type": "code",
   "execution_count": 33,
   "id": "62259d8c-380e-4115-9686-05d59a90794a",
   "metadata": {},
   "outputs": [
    {
     "data": {
      "text/plain": [
       "array([[0, 1, 2],\n",
       "       [3, 4, 5],\n",
       "       [6, 7, 8]])"
      ]
     },
     "execution_count": 33,
     "metadata": {},
     "output_type": "execute_result"
    }
   ],
   "source": [
    "#### 9. Create a 3x3 matrix with values ranging from 0 to 8 (★☆☆)\n",
    "np.random.randint(8, size=(3,3))\n",
    "\n",
    "# much better... create the values in 1d and reshape to whatever shape we want\n",
    "np.arange(9).reshape(3,3)"
   ]
  },
  {
   "cell_type": "code",
   "execution_count": 39,
   "id": "de4630ce-d8f8-4cb2-be5b-4902655bd23c",
   "metadata": {},
   "outputs": [
    {
     "data": {
      "text/plain": [
       "(array([0, 1, 4]),)"
      ]
     },
     "execution_count": 39,
     "metadata": {},
     "output_type": "execute_result"
    }
   ],
   "source": [
    "#### 10. Find indices of non-zero elements from [1,2,0,0,4,0] (★☆☆)\n",
    "# VERY GOOD FUNCTION FOR NONZERO what about NONNAN \n",
    "np.nonzero([1,2,0,0,4,0])"
   ]
  },
  {
   "cell_type": "code",
   "execution_count": 40,
   "id": "073435d5-68e0-4837-9818-8b259a8f2112",
   "metadata": {},
   "outputs": [
    {
     "data": {
      "text/plain": [
       "(array([0, 1, 2, 4]),)"
      ]
     },
     "execution_count": 40,
     "metadata": {},
     "output_type": "execute_result"
    }
   ],
   "source": [
    "np.nonzero([1,2,np.nan,0,4,0])"
   ]
  },
  {
   "cell_type": "code",
   "execution_count": 62,
   "id": "529d5ee3-31cf-418a-b9c0-16f9597b840a",
   "metadata": {},
   "outputs": [
    {
     "name": "stdout",
     "output_type": "stream",
     "text": [
      "[ True  True False  True  True  True]\n"
     ]
    },
    {
     "data": {
      "text/plain": [
       "array([1., 2., 0., 4., 0.])"
      ]
     },
     "execution_count": 62,
     "metadata": {},
     "output_type": "execute_result"
    }
   ],
   "source": [
    "# this just needed to literally be a numpy array for boolean indexing\n",
    "x = np.array([1,2,np.nan,0,4,0])\n",
    "print(~np.isnan(x))\n",
    "x[~np.isnan(x)]"
   ]
  },
  {
   "cell_type": "code",
   "execution_count": 63,
   "id": "fbf46d45-c8f0-4f61-8179-6a61f85e27af",
   "metadata": {},
   "outputs": [
    {
     "name": "stdout",
     "output_type": "stream",
     "text": [
      "[False False False False False  True  True]\n"
     ]
    },
    {
     "data": {
      "text/plain": [
       "array([5, 6])"
      ]
     },
     "execution_count": 63,
     "metadata": {},
     "output_type": "execute_result"
    }
   ],
   "source": [
    "print(np.arange(7) > 4)\n",
    "np.arange(7)[np.arange(7) > 4]"
   ]
  },
  {
   "cell_type": "code",
   "execution_count": 65,
   "id": "d3633187-004a-4e9a-bdd5-938d90e912e4",
   "metadata": {},
   "outputs": [
    {
     "data": {
      "text/plain": [
       "array([[1., 0., 0.],\n",
       "       [0., 1., 0.],\n",
       "       [0., 0., 1.]])"
      ]
     },
     "execution_count": 65,
     "metadata": {},
     "output_type": "execute_result"
    }
   ],
   "source": [
    "#### 11. Create a 3x3 identity matrix (★☆☆)\n",
    "np.eye(3)"
   ]
  },
  {
   "cell_type": "code",
   "execution_count": 66,
   "id": "4a5c51a5-d02a-48b3-ae5d-fc5f8fa657a4",
   "metadata": {},
   "outputs": [
    {
     "data": {
      "text/plain": [
       "array([[[0.24726809, 0.90776054, 0.48747853],\n",
       "        [0.8287777 , 0.54272883, 0.45497482],\n",
       "        [0.97324734, 0.97188022, 0.56847361]],\n",
       "\n",
       "       [[0.59605909, 0.25282375, 0.39234551],\n",
       "        [0.21896289, 0.0683348 , 0.55479126],\n",
       "        [0.28342071, 0.27506646, 0.76340237]],\n",
       "\n",
       "       [[0.29349183, 0.46113447, 0.41302263],\n",
       "        [0.46785253, 0.27282286, 0.87602656],\n",
       "        [0.7107623 , 0.5177189 , 0.94782862]]])"
      ]
     },
     "execution_count": 66,
     "metadata": {},
     "output_type": "execute_result"
    }
   ],
   "source": [
    "#### 12. Create a 3x3x3 array with random values (★☆☆)\n",
    "np.random.random((3,3,3))"
   ]
  },
  {
   "cell_type": "code",
   "execution_count": 72,
   "id": "6bc3c298-02a8-4d3f-9cce-5060ca66a637",
   "metadata": {},
   "outputs": [
    {
     "data": {
      "text/plain": [
       "0.0021540083815826394"
      ]
     },
     "execution_count": 72,
     "metadata": {},
     "output_type": "execute_result"
    }
   ],
   "source": [
    "#### 13. Create a 10x10 array with random values and find the min and max vals\n",
    "nd = np.random.random((10,10))\n",
    "nd.max()\n",
    "nd.min()\n",
    "\n",
    "# or\n",
    "np.max(nd)\n",
    "np.min(nd)"
   ]
  },
  {
   "cell_type": "code",
   "execution_count": 73,
   "id": "cc5e42ec-a64e-4447-906c-e361417ac1eb",
   "metadata": {},
   "outputs": [
    {
     "data": {
      "text/plain": [
       "0.5134125749442594"
      ]
     },
     "execution_count": 73,
     "metadata": {},
     "output_type": "execute_result"
    }
   ],
   "source": [
    "#### 14. Create a random vector of size 30 and find the mean value (★☆☆)\n",
    "a = np.random.random(30)\n",
    "a.mean()"
   ]
  },
  {
   "cell_type": "code",
   "execution_count": 74,
   "id": "bbb78b78-21c2-40a9-b73a-ffff0c3e3085",
   "metadata": {},
   "outputs": [
    {
     "data": {
      "text/plain": [
       "array([[1., 1., 1., 1., 1., 1., 1., 1., 1., 1.],\n",
       "       [1., 0., 0., 0., 0., 0., 0., 0., 0., 1.],\n",
       "       [1., 0., 0., 0., 0., 0., 0., 0., 0., 1.],\n",
       "       [1., 0., 0., 0., 0., 0., 0., 0., 0., 1.],\n",
       "       [1., 0., 0., 0., 0., 0., 0., 0., 0., 1.],\n",
       "       [1., 0., 0., 0., 0., 0., 0., 0., 0., 1.],\n",
       "       [1., 0., 0., 0., 0., 0., 0., 0., 0., 1.],\n",
       "       [1., 0., 0., 0., 0., 0., 0., 0., 0., 1.],\n",
       "       [1., 0., 0., 0., 0., 0., 0., 0., 0., 1.],\n",
       "       [1., 1., 1., 1., 1., 1., 1., 1., 1., 1.]])"
      ]
     },
     "execution_count": 74,
     "metadata": {},
     "output_type": "execute_result"
    }
   ],
   "source": [
    "#### 15. Create a 2d array with 1 on the border and 0 inside (★☆☆)\n",
    "a = np.ones((10, 10))\n",
    "a[1:-1, 1:-1] = 0\n",
    "a"
   ]
  },
  {
   "cell_type": "code",
   "execution_count": 76,
   "id": "22ab5cf1-6384-4244-b415-a0058863038e",
   "metadata": {},
   "outputs": [
    {
     "data": {
      "text/plain": [
       "array([[0., 0., 0., 0., 0., 0., 0.],\n",
       "       [0., 1., 1., 1., 1., 1., 0.],\n",
       "       [0., 1., 1., 1., 1., 1., 0.],\n",
       "       [0., 1., 1., 1., 1., 1., 0.],\n",
       "       [0., 1., 1., 1., 1., 1., 0.],\n",
       "       [0., 1., 1., 1., 1., 1., 0.],\n",
       "       [0., 0., 0., 0., 0., 0., 0.]])"
      ]
     },
     "execution_count": 76,
     "metadata": {},
     "output_type": "execute_result"
    }
   ],
   "source": [
    "#### 16. How to add a border (filled with 0's) around an existing array? (★☆☆)\n",
    "# get the shape, create a new array with shape + 1 for each variable, then init\n",
    "# np.ones and do the same thing to set the inside as the original data\n",
    "\n",
    "# np.pad is the function to use to add values around an array\n",
    "a = np.ones((5,5))\n",
    "np.pad(a, pad_width=1)"
   ]
  },
  {
   "cell_type": "code",
   "execution_count": null,
   "id": "49b2ed8a-37a9-41ed-a883-f195a27dfe5a",
   "metadata": {},
   "outputs": [],
   "source": [
    "#### 17. What is the result of the following expression? (★☆☆)\n",
    "\"\"\"\n",
    "0 * np.nan ... nan\n",
    "np.nan == np.nan ... true WRONG: FALSE\n",
    "np.inf > np.nan ... false\n",
    "np.nan - np.nan ... 0... WRONG: np.nan\n",
    "np.nan in set([np.nan]) ... false WRONG: FALSE\n",
    "0.3 == 3 * 0. false\n",
    "\"\"\""
   ]
  },
  {
   "cell_type": "code",
   "execution_count": 86,
   "id": "d7f21d0a-3d1d-49f2-b8c3-f940498caaaa",
   "metadata": {},
   "outputs": [
    {
     "name": "stdout",
     "output_type": "stream",
     "text": [
      "nan\n",
      "False\n",
      "False\n",
      "nan\n",
      "True\n",
      "False\n"
     ]
    }
   ],
   "source": [
    "print(0 * np.nan)\n",
    "print(np.nan == np.nan)\n",
    "print(np.inf > np.nan)\n",
    "print(np.nan - np.nan)\n",
    "print(np.nan in set([np.nan]))\n",
    "print(0.3 == 3 * 0.)"
   ]
  },
  {
   "cell_type": "code",
   "execution_count": 91,
   "id": "7c30a9cb-6283-4887-a7d7-2468e11e953e",
   "metadata": {},
   "outputs": [
    {
     "data": {
      "text/plain": [
       "array([[0, 1, 0, 0, 0],\n",
       "       [0, 0, 2, 0, 0],\n",
       "       [0, 0, 0, 3, 0],\n",
       "       [0, 0, 0, 0, 4],\n",
       "       [0, 0, 0, 0, 0]])"
      ]
     },
     "execution_count": 91,
     "metadata": {},
     "output_type": "execute_result"
    }
   ],
   "source": [
    "#### 18. Create a 5x5 matrix with values 1,2,3,4 just below the diagonal (★☆☆)\n",
    "np.diag(1+np.arange(4), k=-1)\n",
    "\n",
    "# set the values along the diagonal... k is the offset... we could add one to do\n",
    "# above the diag\n",
    "np.diag(1+np.arange(4), k=1)\n",
    "\n",
    "# seems like np.diag takes an ndarray... k is the \"diagonal in question\""
   ]
  },
  {
   "cell_type": "code",
   "execution_count": 98,
   "id": "300c98bd-8e62-44e2-a831-91ac9ca2a7fb",
   "metadata": {},
   "outputs": [
    {
     "data": {
      "text/plain": [
       "array([[0., 1., 0., 1., 0., 1., 0., 1.],\n",
       "       [1., 0., 1., 0., 1., 0., 1., 0.],\n",
       "       [0., 1., 0., 1., 0., 1., 0., 1.],\n",
       "       [1., 0., 1., 0., 1., 0., 1., 0.],\n",
       "       [0., 1., 0., 1., 0., 1., 0., 1.],\n",
       "       [1., 0., 1., 0., 1., 0., 1., 0.],\n",
       "       [0., 1., 0., 1., 0., 1., 0., 1.],\n",
       "       [1., 0., 1., 0., 1., 0., 1., 0.]])"
      ]
     },
     "execution_count": 98,
     "metadata": {},
     "output_type": "execute_result"
    }
   ],
   "source": [
    "#### 19. Create a 8x8 matrix and fill it with a checkerboard pattern (★☆☆)\n",
    "a = np.ones((8,8))\n",
    "a[::2, ::2] = 0\n",
    "a[1::2, 1::2] = 0\n",
    "a"
   ]
  },
  {
   "cell_type": "code",
   "execution_count": 104,
   "id": "d5f9cd30-7b71-4bef-bf61-f35b670ec461",
   "metadata": {},
   "outputs": [
    {
     "data": {
      "text/plain": [
       "(1, 5, 3)"
      ]
     },
     "execution_count": 104,
     "metadata": {},
     "output_type": "execute_result"
    }
   ],
   "source": [
    "#### 20. Consider a (6,7,8) shape array, what is index (x,y,z) of the 100th element\n",
    "np.unravel_index(99,(6,7,8))\n",
    "\n",
    "# unravel index basically means map a one dimensional idx to a ndimensional idx"
   ]
  },
  {
   "cell_type": "code",
   "execution_count": 111,
   "id": "f27bd223-365e-40fb-8e50-c1f2975dee7f",
   "metadata": {},
   "outputs": [
    {
     "data": {
      "text/plain": [
       "array([[0, 1, 0, 1, 0, 1, 0, 1],\n",
       "       [1, 0, 1, 0, 1, 0, 1, 0],\n",
       "       [0, 1, 0, 1, 0, 1, 0, 1],\n",
       "       [1, 0, 1, 0, 1, 0, 1, 0],\n",
       "       [0, 1, 0, 1, 0, 1, 0, 1],\n",
       "       [1, 0, 1, 0, 1, 0, 1, 0],\n",
       "       [0, 1, 0, 1, 0, 1, 0, 1],\n",
       "       [1, 0, 1, 0, 1, 0, 1, 0]])"
      ]
     },
     "execution_count": 111,
     "metadata": {},
     "output_type": "execute_result"
    }
   ],
   "source": [
    "#### 21. Create a checkerboard 8x8 matrix using the tile function (★☆☆)\n",
    "tile = np.array([[0, 1],[1, 0]])\n",
    "np.tile(tile, (4,4))\n",
    "\n",
    "# np.tile basically takes an np array and then duplicates it, so the \n",
    "# array that you use is the \"tile\""
   ]
  },
  {
   "cell_type": "code",
   "execution_count": 117,
   "id": "62d0dec5-f934-4336-b002-7976d0b563ce",
   "metadata": {},
   "outputs": [
    {
     "data": {
      "text/plain": [
       "array([[-2.15652285,  1.13381699, -0.25554804,  1.54026654,  1.34704905],\n",
       "       [ 0.63853732,  0.90697324,  0.11481086,  0.17554058,  0.47623615],\n",
       "       [-0.80273519, -0.87767732, -0.98244224, -1.67005432,  1.44449766],\n",
       "       [ 1.08935387, -1.04810086,  0.00991972,  0.42210145, -1.07512146],\n",
       "       [ 0.51107192,  0.46100512,  0.21045321, -0.25175067, -1.36168074]])"
      ]
     },
     "execution_count": 117,
     "metadata": {},
     "output_type": "execute_result"
    }
   ],
   "source": [
    "#### 22. Normalize a 5x5 random matrix (★☆☆)\n",
    "a = np.random.random((5,5))\n",
    "\n",
    "# or manually calculate\n",
    "(a - a.mean()) / a.std()"
   ]
  },
  {
   "cell_type": "code",
   "execution_count": 120,
   "id": "0a591939-6f7f-4136-815a-b726bc4ab310",
   "metadata": {},
   "outputs": [
    {
     "data": {
      "text/plain": [
       "dtype([('r', 'u1'), ('g', 'u1'), ('b', 'u1'), ('a', 'u1')])"
      ]
     },
     "execution_count": 120,
     "metadata": {},
     "output_type": "execute_result"
    }
   ],
   "source": [
    "#### 23. Create a custom dtype that describes a color as four unsigned bytes (RGBA)\n",
    "color = np.dtype([\n",
    "    (\"r\", np.ubyte),\n",
    "    (\"g\", np.ubyte),\n",
    "    (\"b\", np.ubyte),\n",
    "    (\"a\", np.ubyte),\n",
    "])\n",
    "color\n",
    "\n",
    "# it is pretty cool that we can create our own primitive data types easily"
   ]
  },
  {
   "cell_type": "code",
   "execution_count": 122,
   "id": "b58208d1-8297-4fc6-aa3d-efdda9b4eb7f",
   "metadata": {},
   "outputs": [
    {
     "data": {
      "text/plain": [
       "array([[1.02204471, 0.72243043],\n",
       "       [1.05838621, 0.71307903],\n",
       "       [1.78241076, 1.22038419],\n",
       "       [0.89657069, 0.48918268],\n",
       "       [1.67156819, 1.13632793]])"
      ]
     },
     "execution_count": 122,
     "metadata": {},
     "output_type": "execute_result"
    }
   ],
   "source": [
    "#### 24. Multiply a 5x3 matrix by a 3x2 matrix (real matrix product) (★☆☆)\n",
    "np.random.random((5,3)).dot(np.random.random((3,2)))"
   ]
  },
  {
   "cell_type": "code",
   "execution_count": 124,
   "id": "fdf872a5-100e-4c6e-8209-13137e7d8f02",
   "metadata": {},
   "outputs": [
    {
     "data": {
      "text/plain": [
       "array([[0.67289899, 1.82685042],\n",
       "       [0.25813017, 1.033854  ],\n",
       "       [0.25158861, 1.25352215],\n",
       "       [0.21432438, 0.52513962],\n",
       "       [0.19968121, 1.26379231]])"
      ]
     },
     "execution_count": 124,
     "metadata": {},
     "output_type": "execute_result"
    }
   ],
   "source": [
    "# interesting... the @ is a new symbol for matrix (dot) multiplication\n",
    "np.random.random((5,3)) @ np.random.random((3,2))"
   ]
  },
  {
   "cell_type": "code",
   "execution_count": 128,
   "id": "9b7d7f3a-7599-4f23-8758-7bad94ee5346",
   "metadata": {},
   "outputs": [
    {
     "data": {
      "text/plain": [
       "array([ 0,  1,  2, -3, -4, -5, -6, -7, -8,  9])"
      ]
     },
     "execution_count": 128,
     "metadata": {},
     "output_type": "execute_result"
    }
   ],
   "source": [
    "#### 25. Given a 1D array, negate all elements which are between 3 and 8, in place\n",
    "a = np.arange(10)\n",
    "np.where((a > 2) & (a < 9), -a, a)"
   ]
  },
  {
   "cell_type": "code",
   "execution_count": 131,
   "id": "467ffce3-ba9a-4c74-a79b-54db52898ad2",
   "metadata": {},
   "outputs": [
    {
     "data": {
      "text/plain": [
       "'\\nprint(sum(range(5),-1))\\nfrom numpy import *\\nprint(sum(range(5),-1))\\n'"
      ]
     },
     "execution_count": 131,
     "metadata": {},
     "output_type": "execute_result"
    }
   ],
   "source": [
    "#### 26. What is the output of the following script? (★☆☆)\n",
    "\"\"\"\n",
    "print(sum(range(5),-1))\n",
    "from numpy import *\n",
    "print(sum(range(5),-1))\n",
    "\"\"\""
   ]
  },
  {
   "cell_type": "code",
   "execution_count": 133,
   "id": "bf4848c2-083a-4544-81da-78562aacb0cd",
   "metadata": {},
   "outputs": [
    {
     "name": "stdout",
     "output_type": "stream",
     "text": [
      "9\n"
     ]
    }
   ],
   "source": [
    "print(sum(range(5),-1))\n",
    "# sum(iterable, start), -1 means sum 4 and 5\n",
    "\n",
    "# the -1 refers to axis in numpy"
   ]
  },
  {
   "cell_type": "code",
   "execution_count": 134,
   "id": "91ed6c56-60c8-421a-8ba1-2a47632a197e",
   "metadata": {},
   "outputs": [
    {
     "data": {
      "text/plain": [
       "'\\nZ**Z\\n2 << Z >> 2\\nZ <- Z \\n1j*Z\\nZ/1/1\\nZ<Z>Z\\n'"
      ]
     },
     "execution_count": 134,
     "metadata": {},
     "output_type": "execute_result"
    }
   ],
   "source": [
    "#### 27. Consider an integer vector Z, which of these expressions are legal? (★☆☆)\n",
    "\"\"\"\n",
    "Z**Z\n",
    "2 << Z >> 2\n",
    "Z <- Z \n",
    "1j*Z\n",
    "Z/1/1\n",
    "Z<Z>Z\n",
    "\"\"\""
   ]
  },
  {
   "cell_type": "code",
   "execution_count": 139,
   "id": "f9234e9b-30f4-4e5c-8d96-8171ede17028",
   "metadata": {},
   "outputs": [
    {
     "data": {
      "text/plain": [
       "array([[1, 2, 2, 2],\n",
       "       [2, 2, 3, 3],\n",
       "       [1, 1, 4, 3],\n",
       "       [2, 4, 2, 4]])"
      ]
     },
     "execution_count": 139,
     "metadata": {},
     "output_type": "execute_result"
    }
   ],
   "source": [
    "# min, max, size\n",
    "a = np.random.randint(1, 5, size=(4, 4))\n",
    "a"
   ]
  },
  {
   "cell_type": "code",
   "execution_count": 141,
   "id": "3463577c-a079-4308-8db7-db1efccce012",
   "metadata": {},
   "outputs": [
    {
     "data": {
      "text/plain": [
       "array([[  1,   4,   4,   4],\n",
       "       [  4,   4,  27,  27],\n",
       "       [  1,   1, 256,  27],\n",
       "       [  4, 256,   4, 256]])"
      ]
     },
     "execution_count": 141,
     "metadata": {},
     "output_type": "execute_result"
    }
   ],
   "source": [
    "a**a #valid"
   ]
  },
  {
   "cell_type": "code",
   "execution_count": 142,
   "id": "a061326b-9bdf-4a42-85a8-3a9e377b6138",
   "metadata": {},
   "outputs": [
    {
     "data": {
      "text/plain": [
       "array([[1, 2, 2, 2],\n",
       "       [2, 2, 4, 4],\n",
       "       [1, 1, 8, 4],\n",
       "       [2, 8, 2, 8]])"
      ]
     },
     "execution_count": 142,
     "metadata": {},
     "output_type": "execute_result"
    }
   ],
   "source": [
    "# bit shifting\n",
    "2 << a >> 2"
   ]
  },
  {
   "cell_type": "code",
   "execution_count": 143,
   "id": "81f64c31-37d3-42dc-9e2f-e982b56ef182",
   "metadata": {},
   "outputs": [
    {
     "data": {
      "text/plain": [
       "array([[False, False, False, False],\n",
       "       [False, False, False, False],\n",
       "       [False, False, False, False],\n",
       "       [False, False, False, False]])"
      ]
     },
     "execution_count": 143,
     "metadata": {},
     "output_type": "execute_result"
    }
   ],
   "source": [
    "# boolean indexing\n",
    "a < -a"
   ]
  },
  {
   "cell_type": "code",
   "execution_count": 144,
   "id": "c345664b-3094-49ce-9f50-254ccc9b2297",
   "metadata": {},
   "outputs": [
    {
     "data": {
      "text/plain": [
       "array([[0.+1.j, 0.+2.j, 0.+2.j, 0.+2.j],\n",
       "       [0.+2.j, 0.+2.j, 0.+3.j, 0.+3.j],\n",
       "       [0.+1.j, 0.+1.j, 0.+4.j, 0.+3.j],\n",
       "       [0.+2.j, 0.+4.j, 0.+2.j, 0.+4.j]])"
      ]
     },
     "execution_count": 144,
     "metadata": {},
     "output_type": "execute_result"
    }
   ],
   "source": [
    "# a complex number\n",
    "1j*a"
   ]
  },
  {
   "cell_type": "code",
   "execution_count": 145,
   "id": "b61f889b-998d-4d14-a15d-1682891b9ada",
   "metadata": {},
   "outputs": [
    {
     "data": {
      "text/plain": [
       "array([[1., 2., 2., 2.],\n",
       "       [2., 2., 3., 3.],\n",
       "       [1., 1., 4., 3.],\n",
       "       [2., 4., 2., 4.]])"
      ]
     },
     "execution_count": 145,
     "metadata": {},
     "output_type": "execute_result"
    }
   ],
   "source": [
    "a/1/1"
   ]
  },
  {
   "cell_type": "code",
   "execution_count": 147,
   "id": "999e40fc-1986-475f-836c-6b7c00deaae9",
   "metadata": {},
   "outputs": [],
   "source": [
    "# a<a>a # NOT POSSIBLE"
   ]
  },
  {
   "cell_type": "code",
   "execution_count": 148,
   "id": "d34c70f7-83c8-47c3-82c5-568add0afba0",
   "metadata": {},
   "outputs": [
    {
     "data": {
      "text/plain": [
       "'\\nnp.array(0) / np.array(0)\\nnp.array(0) // np.array(0)\\nnp.array([np.nan]).astype(int).astype(float)\\n'"
      ]
     },
     "execution_count": 148,
     "metadata": {},
     "output_type": "execute_result"
    }
   ],
   "source": [
    "#### 28. What are the result of the following expressions? (★☆☆)\n",
    "\"\"\"\n",
    "np.array(0) / np.array(0)\n",
    "np.array(0) // np.array(0)\n",
    "np.array([np.nan]).astype(int).astype(float)\n",
    "\"\"\""
   ]
  },
  {
   "cell_type": "code",
   "execution_count": 149,
   "id": "349d8e95-979d-487e-af87-95810fc98f3c",
   "metadata": {},
   "outputs": [
    {
     "name": "stderr",
     "output_type": "stream",
     "text": [
      "/var/folders/_m/r4y9hlzx625650fwyg4glc0m0000gp/T/ipykernel_67041/873513115.py:1: RuntimeWarning: invalid value encountered in divide\n",
      "  np.array(0) / np.array(0)\n"
     ]
    },
    {
     "data": {
      "text/plain": [
       "nan"
      ]
     },
     "execution_count": 149,
     "metadata": {},
     "output_type": "execute_result"
    }
   ],
   "source": [
    "np.array(0) / np.array(0)"
   ]
  },
  {
   "cell_type": "code",
   "execution_count": 150,
   "id": "129caa0a-c806-49ba-92b2-eb7ee598e9f6",
   "metadata": {},
   "outputs": [
    {
     "name": "stderr",
     "output_type": "stream",
     "text": [
      "/var/folders/_m/r4y9hlzx625650fwyg4glc0m0000gp/T/ipykernel_67041/2018018105.py:1: RuntimeWarning: divide by zero encountered in floor_divide\n",
      "  np.array(0) // np.array(0)\n"
     ]
    },
    {
     "data": {
      "text/plain": [
       "0"
      ]
     },
     "execution_count": 150,
     "metadata": {},
     "output_type": "execute_result"
    }
   ],
   "source": [
    "np.array(0) // np.array(0)"
   ]
  },
  {
   "cell_type": "code",
   "execution_count": 152,
   "id": "6fe4580b-8e7d-4627-930a-45ec096238c2",
   "metadata": {},
   "outputs": [
    {
     "data": {
      "text/plain": [
       "array([0.])"
      ]
     },
     "execution_count": 152,
     "metadata": {},
     "output_type": "execute_result"
    }
   ],
   "source": [
    "# nan is a float, and when we go from nan to int I guess we go to zero\n",
    "np.array([np.nan]).astype(int).astype(float)"
   ]
  },
  {
   "cell_type": "code",
   "execution_count": 153,
   "id": "7a910195-60e8-4ba6-8828-e4c90635cb98",
   "metadata": {},
   "outputs": [
    {
     "data": {
      "text/plain": [
       "array([1, 4, 5, 6, 7, 8])"
      ]
     },
     "execution_count": 153,
     "metadata": {},
     "output_type": "execute_result"
    }
   ],
   "source": [
    "#### 30. How to find common values between two arrays? (★☆☆)\n",
    "np.intersect1d(np.random.randint(0,10,10), np.random.randint(0,10,10))"
   ]
  },
  {
   "cell_type": "code",
   "execution_count": 154,
   "id": "a0cdd90d-937d-4a52-bf81-39c7bcc96b22",
   "metadata": {},
   "outputs": [
    {
     "name": "stderr",
     "output_type": "stream",
     "text": [
      "/var/folders/_m/r4y9hlzx625650fwyg4glc0m0000gp/T/ipykernel_67041/306841201.py:2: RuntimeWarning: invalid value encountered in sqrt\n",
      "  np.sqrt(-1) == np.emath.sqrt(-1)\n"
     ]
    },
    {
     "data": {
      "text/plain": [
       "False"
      ]
     },
     "execution_count": 154,
     "metadata": {},
     "output_type": "execute_result"
    }
   ],
   "source": [
    "#### 32. Is the following expressions true? (★☆☆)\n",
    "np.sqrt(-1) == np.emath.sqrt(-1)"
   ]
  },
  {
   "cell_type": "code",
   "execution_count": 158,
   "id": "00e887a9-b1a5-4974-a91a-dbe013aa4b3a",
   "metadata": {},
   "outputs": [
    {
     "name": "stdout",
     "output_type": "stream",
     "text": [
      "<class 'numpy.complex128'>\n"
     ]
    }
   ],
   "source": [
    "# print(type(np.sqrt(-1))) # THIS IS A FLOAT, not a COMPLEX number\n",
    "print(type(np.emath.sqrt(-1)))"
   ]
  },
  {
   "cell_type": "code",
   "execution_count": 159,
   "id": "874ba4d6-4ee8-4dad-bd1b-cd7a3cd2104e",
   "metadata": {},
   "outputs": [],
   "source": [
    "#### 33. How to get the dates of yesterday, today and tomorrow? (★☆☆)\n",
    "yesterday = np.datetime64('today') - np.timedelta64(1)\n",
    "today     = np.datetime64('today')\n",
    "tomorrow  = np.datetime64('today') + np.timedelta64(1)"
   ]
  },
  {
   "cell_type": "code",
   "execution_count": 160,
   "id": "884c3d7c-c68f-4255-a274-38e21449dfb8",
   "metadata": {},
   "outputs": [
    {
     "data": {
      "text/plain": [
       "numpy.datetime64('2022-08-29')"
      ]
     },
     "execution_count": 160,
     "metadata": {},
     "output_type": "execute_result"
    }
   ],
   "source": [
    "today"
   ]
  },
  {
   "cell_type": "code",
   "execution_count": 163,
   "id": "9c15a81c-f2cc-4022-9ebd-398c5f73bdec",
   "metadata": {},
   "outputs": [
    {
     "data": {
      "text/plain": [
       "array(['2016-07-01', '2016-07-02', '2016-07-03', '2016-07-04',\n",
       "       '2016-07-05', '2016-07-06', '2016-07-07', '2016-07-08',\n",
       "       '2016-07-09', '2016-07-10', '2016-07-11', '2016-07-12',\n",
       "       '2016-07-13', '2016-07-14', '2016-07-15', '2016-07-16',\n",
       "       '2016-07-17', '2016-07-18', '2016-07-19', '2016-07-20',\n",
       "       '2016-07-21', '2016-07-22', '2016-07-23', '2016-07-24',\n",
       "       '2016-07-25', '2016-07-26', '2016-07-27', '2016-07-28',\n",
       "       '2016-07-29', '2016-07-30', '2016-07-31'], dtype='datetime64[D]')"
      ]
     },
     "execution_count": 163,
     "metadata": {},
     "output_type": "execute_result"
    }
   ],
   "source": [
    "#### 34. How to get all the dates corresponding to the month of July 2016? (★★☆)\n",
    "Z = np.arange('2016-07', '2016-08', dtype='datetime64[D]')\n",
    "Z\n",
    "\n",
    "# very interesting that numpy has its own built in calendar... we should use that\n",
    "# instead of generating our calendar on our own... we probably do and then\n",
    "# filter for weekends and holidays and remove that from the list"
   ]
  },
  {
   "cell_type": "code",
   "execution_count": 165,
   "id": "bdd94792-fd24-4153-875f-84fd7ad9593f",
   "metadata": {},
   "outputs": [
    {
     "data": {
      "text/plain": [
       "array([-1.5, -1.5, -1.5])"
      ]
     },
     "execution_count": 165,
     "metadata": {},
     "output_type": "execute_result"
    }
   ],
   "source": [
    "#### 35. How to compute ((A+B)*(-A/2)) in place (without copy)? (★★☆)\n",
    "A = np.ones(3)*1\n",
    "B = np.ones(3)*2\n",
    "np.add(A,B,out=B)\n",
    "np.divide(A,2,out=A)\n",
    "np.negative(A,out=A)\n",
    "np.multiply(A,B,out=A)\n",
    "\n",
    "# we can use the `out` keyword to say do not return a copy but rather write this\n",
    "# to the memory of A or B"
   ]
  },
  {
   "cell_type": "code",
   "execution_count": 167,
   "id": "42eeb4f2-72ac-45cc-8312-c7e5fe3925b5",
   "metadata": {},
   "outputs": [
    {
     "name": "stdout",
     "output_type": "stream",
     "text": [
      "[[0. 0. 0. 0. 0.]\n",
      " [0. 0. 0. 0. 0.]\n",
      " [0. 0. 0. 0. 0.]\n",
      " [0. 0. 0. 0. 0.]\n",
      " [0. 0. 0. 0. 0.]]\n"
     ]
    }
   ],
   "source": [
    "#### 36. Extract the integer part of a random array of positive numbers 4 dif ways\n",
    "np.random.random((5,5)).astype(int)\n",
    "print(np.random.random((5,5)) // 1)\n"
   ]
  },
  {
   "cell_type": "code",
   "execution_count": 168,
   "id": "9e8e816d-25fe-4acd-88b0-083197718cac",
   "metadata": {},
   "outputs": [
    {
     "data": {
      "text/plain": [
       "array([[2, 0, 3, 3, 3],\n",
       "       [0, 1, 2, 2, 2],\n",
       "       [1, 3, 0, 0, 2],\n",
       "       [2, 3, 0, 0, 2],\n",
       "       [2, 3, 1, 3, 2]])"
      ]
     },
     "execution_count": 168,
     "metadata": {},
     "output_type": "execute_result"
    }
   ],
   "source": [
    "#### 37. Create a 5x5 matrix with row values ranging from 0 to 4 (★★☆)\n",
    "np.random.randint(0, 4, size=(5,5))"
   ]
  },
  {
   "cell_type": "code",
   "execution_count": 171,
   "id": "57e756c1-f8d1-4036-9dba-9d335540992d",
   "metadata": {},
   "outputs": [
    {
     "data": {
      "text/plain": [
       "array([[0, 1, 2, 3, 4],\n",
       "       [0, 1, 2, 3, 4],\n",
       "       [0, 1, 2, 3, 4],\n",
       "       [0, 1, 2, 3, 4],\n",
       "       [0, 1, 2, 3, 4]])"
      ]
     },
     "execution_count": 171,
     "metadata": {},
     "output_type": "execute_result"
    }
   ],
   "source": [
    "np.tile(np.arange(5), (5,1))"
   ]
  },
  {
   "cell_type": "code",
   "execution_count": 172,
   "id": "107b3279-c197-427c-a01a-e0511efecf67",
   "metadata": {},
   "outputs": [
    {
     "data": {
      "text/plain": [
       "array([0, 1, 2, 3, 4, 5, 6, 7, 8, 9])"
      ]
     },
     "execution_count": 172,
     "metadata": {},
     "output_type": "execute_result"
    }
   ],
   "source": [
    "#### 38. Consider a generator function that generates 10 integers and use it to build an array (★☆☆)\n",
    "def generator():\n",
    "    for x in range(10):\n",
    "        yield x\n",
    "np.array(list(generator()))\n"
   ]
  },
  {
   "cell_type": "code",
   "execution_count": 180,
   "id": "294b979f-d335-466b-8ea7-d41721630c53",
   "metadata": {},
   "outputs": [
    {
     "data": {
      "text/plain": [
       "array([0, 1, 2, 3, 4, 5, 6, 7, 8, 9])"
      ]
     },
     "execution_count": 180,
     "metadata": {},
     "output_type": "execute_result"
    }
   ],
   "source": [
    "def generator():\n",
    "    for x in range(10):\n",
    "        yield x\n",
    "\n",
    "# very similar to wrapping, I guess from iterator is better though\n",
    "np.fromiter(generator(), dtype=int)\n",
    "\n",
    "# the generator is actually an iterable... it just generates an iterator\n",
    "# and then calls next on that iterator"
   ]
  },
  {
   "cell_type": "code",
   "execution_count": 181,
   "id": "7bc5372d-be13-4da4-9ad8-d794f721c79e",
   "metadata": {},
   "outputs": [
    {
     "data": {
      "text/plain": [
       "array([0.09090909, 0.18181818, 0.27272727, 0.36363636, 0.45454545,\n",
       "       0.54545455, 0.63636364, 0.72727273, 0.81818182, 0.90909091])"
      ]
     },
     "execution_count": 181,
     "metadata": {},
     "output_type": "execute_result"
    }
   ],
   "source": [
    "#### 39. Create a vector of size 10 with values ranging from 0 to 1, both excluded (★★☆)\n",
    "np.linspace(0,1,11,endpoint=False)[1:]"
   ]
  },
  {
   "cell_type": "code",
   "execution_count": 186,
   "id": "3e28e33e-643e-498f-8495-780ef4e3eaaa",
   "metadata": {},
   "outputs": [
    {
     "data": {
      "text/plain": [
       "array([0.03316727, 0.03459606, 0.14829642, 0.15446323, 0.42584868,\n",
       "       0.44774218, 0.46236389, 0.78301283, 0.81996853, 0.96942593])"
      ]
     },
     "execution_count": 186,
     "metadata": {},
     "output_type": "execute_result"
    }
   ],
   "source": [
    "#### 40. Create a random vector of size 10 and sort it (★★☆)\n",
    "a = np.random.random(10)\n",
    "a.sort() # this sorts in place\n",
    "a"
   ]
  },
  {
   "cell_type": "code",
   "execution_count": 189,
   "id": "13db46e4-28fa-4512-9cf5-7f1851ecfc0e",
   "metadata": {},
   "outputs": [
    {
     "data": {
      "text/plain": [
       "False"
      ]
     },
     "execution_count": 189,
     "metadata": {},
     "output_type": "execute_result"
    }
   ],
   "source": [
    "#### 42. Consider two random array A and B, check if they are equal (★★☆)\n",
    "A = np.random.randint(0,2,5)\n",
    "B = np.random.randint(0,2,5)\n",
    "np.all(A == B)"
   ]
  },
  {
   "cell_type": "code",
   "execution_count": 190,
   "id": "ffea8cdd-0728-4bf2-bf66-c88b50ffeab4",
   "metadata": {},
   "outputs": [
    {
     "data": {
      "text/plain": [
       "array([1, 0, 1, 1, 1])"
      ]
     },
     "execution_count": 190,
     "metadata": {},
     "output_type": "execute_result"
    }
   ],
   "source": [
    "A"
   ]
  },
  {
   "cell_type": "code",
   "execution_count": 191,
   "id": "b644d7b7-4826-4f8a-bf5a-35945b6e6bdd",
   "metadata": {},
   "outputs": [
    {
     "data": {
      "text/plain": [
       "array([0, 0, 0, 1, 1])"
      ]
     },
     "execution_count": 191,
     "metadata": {},
     "output_type": "execute_result"
    }
   ],
   "source": [
    "B"
   ]
  },
  {
   "cell_type": "code",
   "execution_count": 192,
   "id": "cd757209-86fd-4c91-8003-f90e2849024d",
   "metadata": {},
   "outputs": [
    {
     "data": {
      "text/plain": [
       "False"
      ]
     },
     "execution_count": 192,
     "metadata": {},
     "output_type": "execute_result"
    }
   ],
   "source": [
    "np.allclose(A,B)"
   ]
  },
  {
   "cell_type": "code",
   "execution_count": 193,
   "id": "26d7773b-3898-46e4-95cc-2288352bf9e9",
   "metadata": {},
   "outputs": [
    {
     "data": {
      "text/plain": [
       "False"
      ]
     },
     "execution_count": 193,
     "metadata": {},
     "output_type": "execute_result"
    }
   ],
   "source": [
    "np.array_equal(A,B)"
   ]
  },
  {
   "cell_type": "code",
   "execution_count": 196,
   "id": "aa1845f1-318d-409b-b7ce-1b24e29e463d",
   "metadata": {},
   "outputs": [],
   "source": [
    "#### 43. Make an array immutable (read-only) (★★☆)\n",
    "a = np.ones(10)\n",
    "a.flags.writeable = False\n",
    "\n",
    "# interesting way to make something const"
   ]
  },
  {
   "cell_type": "code",
   "execution_count": 198,
   "id": "4e204e99-9fdf-41a6-8056-13baa6705227",
   "metadata": {},
   "outputs": [
    {
     "name": "stdout",
     "output_type": "stream",
     "text": [
      "[0.6831375  1.14849762 0.81146669 1.07580496 0.73911277 1.02621762\n",
      " 0.73463895 0.77363241 0.37032514 1.28867095]\n",
      "[1.26564666 0.75318968 0.91288572 0.62827543 0.56530669 0.78609305\n",
      " 0.96943263 0.67183739 0.38966065 0.74141031]\n"
     ]
    }
   ],
   "source": [
    "#### 44. Consider a random 10x2 matrix representing cartesian coordinates, convert them to polar coordinates (★★☆)\n",
    "a = np.random.random((10,2))\n",
    "\n",
    "# Cartesian (x,y) -> Polar (r, theta)\n",
    "# r = sqrt(x^2 + y^2), theta = inverse tan (x/y)\n",
    "R = np.sqrt(a[:,0] ** 2 + a[:,1] ** 2)\n",
    "T = np.arctan(a[:,0]/a[:,1])\n",
    "print(R)\n",
    "print(T)\n"
   ]
  },
  {
   "cell_type": "code",
   "execution_count": 207,
   "id": "f3bca4b1-34bb-48ff-947c-a1be2706a427",
   "metadata": {},
   "outputs": [
    {
     "data": {
      "text/plain": [
       "array([0, 2, 1, 1, 0, 6, 1, 6, 4, 0])"
      ]
     },
     "execution_count": 207,
     "metadata": {},
     "output_type": "execute_result"
    }
   ],
   "source": [
    "#### 45. Create random vector of size 10 and replace the maximum value by 0 (★★☆)\n",
    "# start stop size\n",
    "a = np.random.randint(0, 10, 10)\n",
    "a[np.argmax(a)] = 0\n",
    "a\n",
    "\n",
    "# or just a.argmax()"
   ]
  },
  {
   "cell_type": "code",
   "execution_count": 208,
   "id": "0bd7530f-6da3-460b-838d-2d8ad03ab877",
   "metadata": {},
   "outputs": [
    {
     "name": "stdout",
     "output_type": "stream",
     "text": [
      "3638.1636371179666\n"
     ]
    }
   ],
   "source": [
    "#### 47. Given two arrays, X and Y, construct the Cauchy matrix C\n",
    "# (Cij =1/(xi - yj))\n",
    "X = np.arange(8)\n",
    "Y = X + 0.5\n",
    "C = 1.0 / np.subtract.outer(X, Y)\n",
    "print(np.linalg.det(C))"
   ]
  },
  {
   "cell_type": "code",
   "execution_count": 209,
   "id": "6d1ace84-e3f1-45f5-ac8e-aed93f0e2c79",
   "metadata": {},
   "outputs": [
    {
     "name": "stdout",
     "output_type": "stream",
     "text": [
      "-128\n",
      "127\n",
      "-2147483648\n",
      "2147483647\n",
      "-9223372036854775808\n",
      "9223372036854775807\n",
      "-3.4028235e+38\n",
      "3.4028235e+38\n",
      "1.1920929e-07\n",
      "-1.7976931348623157e+308\n",
      "1.7976931348623157e+308\n",
      "2.220446049250313e-16\n"
     ]
    }
   ],
   "source": [
    "#### 48. Print the minimum and maximum representable value for each numpy scalar type (★★☆)\n",
    "for dtype in [np.int8, np.int32, np.int64]:\n",
    "    print(np.iinfo(dtype).min)\n",
    "    print(np.iinfo(dtype).max)\n",
    "for dtype in [np.float32, np.float64]:\n",
    "    print(np.finfo(dtype).min)\n",
    "    print(np.finfo(dtype).max)\n",
    "    print(np.finfo(dtype).eps)"
   ]
  },
  {
   "cell_type": "code",
   "execution_count": 213,
   "id": "734b1663-1d37-4c47-a353-b4c92d76cd10",
   "metadata": {},
   "outputs": [
    {
     "data": {
      "text/plain": [
       "array([((0., 0.), (0., 0., 0.)), ((0., 0.), (0., 0., 0.)),\n",
       "       ((0., 0.), (0., 0., 0.)), ((0., 0.), (0., 0., 0.)),\n",
       "       ((0., 0.), (0., 0., 0.)), ((0., 0.), (0., 0., 0.)),\n",
       "       ((0., 0.), (0., 0., 0.)), ((0., 0.), (0., 0., 0.)),\n",
       "       ((0., 0.), (0., 0., 0.)), ((0., 0.), (0., 0., 0.))],\n",
       "      dtype=[('position', [('x', '<f8'), ('y', '<f8')]), ('color', [('r', '<f8'), ('g', '<f8'), ('b', '<f8')])])"
      ]
     },
     "execution_count": 213,
     "metadata": {},
     "output_type": "execute_result"
    }
   ],
   "source": [
    "np.zeros(10, [ ('position', [ ('x', float, int),\n",
    "                                  ('y', float, int)]),\n",
    "                   ('color',    [ ('r', float, int),\n",
    "                                  ('g', float, int),\n",
    "                                  ('b', float, int)])])\n",
    "\n",
    "# I should read more about structured numpy arrays, they are\n",
    "# what our dictionaries are at peri"
   ]
  },
  {
   "cell_type": "code",
   "execution_count": 219,
   "id": "b81cae42-0707-4c52-b53f-15764982475e",
   "metadata": {},
   "outputs": [
    {
     "ename": "ModuleNotFoundError",
     "evalue": "No module named 'scipy'",
     "output_type": "error",
     "traceback": [
      "\u001b[0;31m---------------------------------------------------------------------------\u001b[0m",
      "\u001b[0;31mModuleNotFoundError\u001b[0m                       Traceback (most recent call last)",
      "Input \u001b[0;32mIn [219]\u001b[0m, in \u001b[0;36m<module>\u001b[0;34m\u001b[0m\n\u001b[1;32m      1\u001b[0m \u001b[38;5;66;03m#### 52. Consider a random vector with shape (100,2) representing coordinates, find point by point distances (★★☆)\u001b[39;00m\n\u001b[1;32m      2\u001b[0m a \u001b[38;5;241m=\u001b[39m np\u001b[38;5;241m.\u001b[39mrandom\u001b[38;5;241m.\u001b[39mrandom((\u001b[38;5;241m100\u001b[39m,\u001b[38;5;241m2\u001b[39m))\n\u001b[0;32m----> 4\u001b[0m \u001b[38;5;28;01mimport\u001b[39;00m \u001b[38;5;21;01mscipy\u001b[39;00m \n\u001b[1;32m      5\u001b[0m spatial\u001b[38;5;241m.\u001b[39mdistance\u001b[38;5;241m.\u001b[39mcdist(a,a)\n",
      "\u001b[0;31mModuleNotFoundError\u001b[0m: No module named 'scipy'"
     ]
    }
   ],
   "source": [
    "#### 52. Consider a random vector with shape (100,2) representing coordinates, find point by point distances (★★☆)\n",
    "a = np.random.random((100,2))\n",
    "\n",
    "import scipy \n",
    "spatial.distance.cdist(a,a)"
   ]
  },
  {
   "cell_type": "code",
   "execution_count": 221,
   "id": "abd67c31-f693-49df-8b37-858545cec0db",
   "metadata": {},
   "outputs": [
    {
     "data": {
      "text/plain": [
       "array([[0.        , 0.38912087, 0.95871301, 0.80471105, 0.6117706 ,\n",
       "        1.09095578, 0.32553757, 0.82530863, 0.27499587, 0.88288407],\n",
       "       [0.38912087, 0.        , 0.65793839, 0.53254433, 0.30374085,\n",
       "        0.7706082 , 0.1823656 , 0.79587677, 0.54371076, 0.84596355],\n",
       "       [0.95871301, 0.65793839, 0.        , 0.16229445, 0.35874548,\n",
       "        0.14273346, 0.63408993, 0.63231314, 0.93799668, 0.64083898],\n",
       "       [0.80471105, 0.53254433, 0.16229445, 0.        , 0.22957691,\n",
       "        0.30448372, 0.48304121, 0.5218745 , 0.7757031 , 0.54229386],\n",
       "       [0.6117706 , 0.30374085, 0.35874548, 0.22957691, 0.        ,\n",
       "        0.48227388, 0.28741248, 0.61080412, 0.64508961, 0.64894036],\n",
       "       [1.09095578, 0.7706082 , 0.14273346, 0.30448372, 0.48227388,\n",
       "        0.        , 0.76543467, 0.7541675 , 1.0797981 , 0.75612646],\n",
       "       [0.32553757, 0.1823656 , 0.63408993, 0.48304121, 0.28741248,\n",
       "        0.76543467, 0.        , 0.63369641, 0.39152589, 0.68677775],\n",
       "       [0.82530863, 0.79587677, 0.63231314, 0.5218745 , 0.61080412,\n",
       "        0.7541675 , 0.63369641, 0.        , 0.62695097, 0.0576488 ],\n",
       "       [0.27499587, 0.54371076, 0.93799668, 0.7757031 , 0.64508961,\n",
       "        1.0797981 , 0.39152589, 0.62695097, 0.        , 0.68340142],\n",
       "       [0.88288407, 0.84596355, 0.64083898, 0.54229386, 0.64894036,\n",
       "        0.75612646, 0.68677775, 0.0576488 , 0.68340142, 0.        ]])"
      ]
     },
     "execution_count": 221,
     "metadata": {},
     "output_type": "execute_result"
    }
   ],
   "source": [
    "Z = np.random.random((10,2))\n",
    "X,Y = np.atleast_2d(Z[:,0], Z[:,1])\n",
    "D = np.sqrt( (X-X.T)**2 + (Y-Y.T)**2)\n",
    "D"
   ]
  },
  {
   "cell_type": "code",
   "execution_count": 222,
   "id": "43a5e247-3e6a-413e-b93c-db28be153f46",
   "metadata": {},
   "outputs": [
    {
     "name": "stdout",
     "output_type": "stream",
     "text": [
      "[[0.36787944 0.44822088 0.51979489 0.57375342 0.60279818 0.60279818\n",
      "  0.57375342 0.51979489 0.44822088 0.36787944]\n",
      " [0.44822088 0.54610814 0.63331324 0.69905581 0.73444367 0.73444367\n",
      "  0.69905581 0.63331324 0.54610814 0.44822088]\n",
      " [0.51979489 0.63331324 0.73444367 0.81068432 0.85172308 0.85172308\n",
      "  0.81068432 0.73444367 0.63331324 0.51979489]\n",
      " [0.57375342 0.69905581 0.81068432 0.89483932 0.9401382  0.9401382\n",
      "  0.89483932 0.81068432 0.69905581 0.57375342]\n",
      " [0.60279818 0.73444367 0.85172308 0.9401382  0.98773022 0.98773022\n",
      "  0.9401382  0.85172308 0.73444367 0.60279818]\n",
      " [0.60279818 0.73444367 0.85172308 0.9401382  0.98773022 0.98773022\n",
      "  0.9401382  0.85172308 0.73444367 0.60279818]\n",
      " [0.57375342 0.69905581 0.81068432 0.89483932 0.9401382  0.9401382\n",
      "  0.89483932 0.81068432 0.69905581 0.57375342]\n",
      " [0.51979489 0.63331324 0.73444367 0.81068432 0.85172308 0.85172308\n",
      "  0.81068432 0.73444367 0.63331324 0.51979489]\n",
      " [0.44822088 0.54610814 0.63331324 0.69905581 0.73444367 0.73444367\n",
      "  0.69905581 0.63331324 0.54610814 0.44822088]\n",
      " [0.36787944 0.44822088 0.51979489 0.57375342 0.60279818 0.60279818\n",
      "  0.57375342 0.51979489 0.44822088 0.36787944]]\n"
     ]
    }
   ],
   "source": [
    "#### 56. Generate a generic 2D Gaussian-like array (★★☆)\n",
    "X, Y = np.meshgrid(np.linspace(-1,1,10), np.linspace(-1,1,10))\n",
    "D = np.sqrt(X*X+Y*Y)\n",
    "sigma, mu = 1.0, 0.0\n",
    "G = np.exp(-( (D-mu)**2 / ( 2.0 * sigma**2 ) ) )\n",
    "print(G)"
   ]
  },
  {
   "cell_type": "code",
   "execution_count": 223,
   "id": "cc4c0274-4458-4a14-9efb-52266687d3be",
   "metadata": {},
   "outputs": [
    {
     "data": {
      "text/plain": [
       "array([[ 0.17948116, -0.36738373, -0.45383639,  0.25813691, -0.49438802,\n",
       "         0.19255413, -0.1298473 , -0.25715058, -0.43272827,  0.22173634],\n",
       "       [ 0.4170452 , -0.31357152,  0.26671065, -0.02550615, -0.33099375,\n",
       "         0.13408985, -0.15316071, -0.17123856,  0.39647226,  0.21570031],\n",
       "       [ 0.15063956,  0.37008437,  0.39458816,  0.40285911, -0.45679442,\n",
       "        -0.45444923, -0.38146711, -0.07812818,  0.37675894, -0.46328998],\n",
       "       [ 0.43803422,  0.15156283, -0.16145007,  0.36493472, -0.22095119,\n",
       "        -0.3449055 , -0.18266589,  0.3077878 , -0.41254638,  0.28316911],\n",
       "       [ 0.44000336,  0.15464616,  0.22190197,  0.41216991,  0.25080255,\n",
       "         0.12498864, -0.22417521, -0.04160582, -0.43081962, -0.14380462]])"
      ]
     },
     "execution_count": 223,
     "metadata": {},
     "output_type": "execute_result"
    }
   ],
   "source": [
    "#### 58. Subtract the mean of each row of a matrix (★★☆)\n",
    "X = np.random.rand(5, 10)\n",
    "Y = X - X.mean(axis=0)\n",
    "Y"
   ]
  },
  {
   "cell_type": "code",
   "execution_count": 224,
   "id": "bd2badbb-0bbf-4e4a-ab3f-6452343dacab",
   "metadata": {},
   "outputs": [
    {
     "name": "stdout",
     "output_type": "stream",
     "text": [
      "[[7 6 6]\n",
      " [6 5 5]\n",
      " [4 8 0]]\n",
      "[[6 5 5]\n",
      " [7 6 6]\n",
      " [4 8 0]]\n"
     ]
    }
   ],
   "source": [
    "#### 59. How to sort an array by the nth column? (★★☆)\n",
    "# this is like `conjoined vectors`\n",
    "Z = np.random.randint(0,10,(3,3))\n",
    "print(Z)\n",
    "print(Z[Z[:,1].argsort()])"
   ]
  },
  {
   "cell_type": "code",
   "execution_count": 225,
   "id": "fdab136b-e01e-497f-8e18-e607c1df896b",
   "metadata": {},
   "outputs": [
    {
     "name": "stdout",
     "output_type": "stream",
     "text": [
      "range_10\n"
     ]
    }
   ],
   "source": [
    "#### 63. Create an array class that has a name attribute (★★☆)\n",
    "class NamedArray(np.ndarray):\n",
    "    def __new__(cls, array, name=\"no name\"):\n",
    "        obj = np.asarray(array).view(cls)\n",
    "        obj.name = name\n",
    "        return obj\n",
    "    def __array_finalize__(self, obj):\n",
    "        if obj is None: return\n",
    "        self.info = getattr(obj, 'name', \"no name\")\n",
    "\n",
    "Z = NamedArray(np.arange(10), \"range_10\")\n",
    "print (Z.name)"
   ]
  },
  {
   "cell_type": "code",
   "execution_count": 228,
   "id": "504f1bad-65ce-4b0c-b901-72a14a4649ca",
   "metadata": {},
   "outputs": [
    {
     "name": "stdout",
     "output_type": "stream",
     "text": [
      "[0. 7. 0. 6. 5. 0. 0. 0. 0. 3.]\n"
     ]
    }
   ],
   "source": [
    "#### 65. How to accumulate elements of a vector (X) to an array (F) based on an index list (I)? (★★★)\n",
    "X = [1,2,3,4,5,6]\n",
    "I = [1,3,9,3,4,1]\n",
    "F = np.bincount(I,X)\n",
    "print(F)"
   ]
  },
  {
   "cell_type": "code",
   "execution_count": 229,
   "id": "51e54485-f63d-40b1-bb67-feeba9c0c048",
   "metadata": {},
   "outputs": [
    {
     "name": "stdout",
     "output_type": "stream",
     "text": [
      "[ 1.  2.  3.  4.  5.  6.  7.  8.  9. 10. 11. 12. 13. 14. 15. 16. 17. 18.]\n"
     ]
    }
   ],
   "source": [
    "#### 75. How to compute averages using a sliding window over an array? (★★★)\n",
    "def moving_average(a, n=3) :\n",
    "    ret = np.cumsum(a, dtype=float)\n",
    "    ret[n:] = ret[n:] - ret[:-n]\n",
    "    return ret[n - 1:] / n\n",
    "Z = np.arange(20)\n",
    "print(moving_average(Z, n=3))"
   ]
  },
  {
   "cell_type": "code",
   "execution_count": 231,
   "id": "042934be-d203-44d7-9dbe-2b151d565e0f",
   "metadata": {},
   "outputs": [
    {
     "name": "stdout",
     "output_type": "stream",
     "text": [
      "[[[[4 4 2]\n",
      "   [4 1 0]\n",
      "   [1 4 1]]\n",
      "\n",
      "  [[4 2 3]\n",
      "   [1 0 4]\n",
      "   [4 1 2]]\n",
      "\n",
      "  [[2 3 4]\n",
      "   [0 4 4]\n",
      "   [1 2 1]]\n",
      "\n",
      "  [[3 4 1]\n",
      "   [4 4 4]\n",
      "   [2 1 2]]\n",
      "\n",
      "  [[4 1 2]\n",
      "   [4 4 4]\n",
      "   [1 2 4]]\n",
      "\n",
      "  [[1 2 0]\n",
      "   [4 4 1]\n",
      "   [2 4 3]]\n",
      "\n",
      "  [[2 0 1]\n",
      "   [4 1 3]\n",
      "   [4 3 0]]\n",
      "\n",
      "  [[0 1 4]\n",
      "   [1 3 3]\n",
      "   [3 0 2]]]\n",
      "\n",
      "\n",
      " [[[4 1 0]\n",
      "   [1 4 1]\n",
      "   [4 3 4]]\n",
      "\n",
      "  [[1 0 4]\n",
      "   [4 1 2]\n",
      "   [3 4 2]]\n",
      "\n",
      "  [[0 4 4]\n",
      "   [1 2 1]\n",
      "   [4 2 4]]\n",
      "\n",
      "  [[4 4 4]\n",
      "   [2 1 2]\n",
      "   [2 4 4]]\n",
      "\n",
      "  [[4 4 4]\n",
      "   [1 2 4]\n",
      "   [4 4 1]]\n",
      "\n",
      "  [[4 4 1]\n",
      "   [2 4 3]\n",
      "   [4 1 0]]\n",
      "\n",
      "  [[4 1 3]\n",
      "   [4 3 0]\n",
      "   [1 0 3]]\n",
      "\n",
      "  [[1 3 3]\n",
      "   [3 0 2]\n",
      "   [0 3 4]]]\n",
      "\n",
      "\n",
      " [[[1 4 1]\n",
      "   [4 3 4]\n",
      "   [3 3 1]]\n",
      "\n",
      "  [[4 1 2]\n",
      "   [3 4 2]\n",
      "   [3 1 1]]\n",
      "\n",
      "  [[1 2 1]\n",
      "   [4 2 4]\n",
      "   [1 1 1]]\n",
      "\n",
      "  [[2 1 2]\n",
      "   [2 4 4]\n",
      "   [1 1 0]]\n",
      "\n",
      "  [[1 2 4]\n",
      "   [4 4 1]\n",
      "   [1 0 0]]\n",
      "\n",
      "  [[2 4 3]\n",
      "   [4 1 0]\n",
      "   [0 0 3]]\n",
      "\n",
      "  [[4 3 0]\n",
      "   [1 0 3]\n",
      "   [0 3 1]]\n",
      "\n",
      "  [[3 0 2]\n",
      "   [0 3 4]\n",
      "   [3 1 2]]]\n",
      "\n",
      "\n",
      " [[[4 3 4]\n",
      "   [3 3 1]\n",
      "   [4 1 0]]\n",
      "\n",
      "  [[3 4 2]\n",
      "   [3 1 1]\n",
      "   [1 0 1]]\n",
      "\n",
      "  [[4 2 4]\n",
      "   [1 1 1]\n",
      "   [0 1 3]]\n",
      "\n",
      "  [[2 4 4]\n",
      "   [1 1 0]\n",
      "   [1 3 4]]\n",
      "\n",
      "  [[4 4 1]\n",
      "   [1 0 0]\n",
      "   [3 4 4]]\n",
      "\n",
      "  [[4 1 0]\n",
      "   [0 0 3]\n",
      "   [4 4 3]]\n",
      "\n",
      "  [[1 0 3]\n",
      "   [0 3 1]\n",
      "   [4 3 4]]\n",
      "\n",
      "  [[0 3 4]\n",
      "   [3 1 2]\n",
      "   [3 4 2]]]\n",
      "\n",
      "\n",
      " [[[3 3 1]\n",
      "   [4 1 0]\n",
      "   [2 4 0]]\n",
      "\n",
      "  [[3 1 1]\n",
      "   [1 0 1]\n",
      "   [4 0 1]]\n",
      "\n",
      "  [[1 1 1]\n",
      "   [0 1 3]\n",
      "   [0 1 2]]\n",
      "\n",
      "  [[1 1 0]\n",
      "   [1 3 4]\n",
      "   [1 2 0]]\n",
      "\n",
      "  [[1 0 0]\n",
      "   [3 4 4]\n",
      "   [2 0 2]]\n",
      "\n",
      "  [[0 0 3]\n",
      "   [4 4 3]\n",
      "   [0 2 2]]\n",
      "\n",
      "  [[0 3 1]\n",
      "   [4 3 4]\n",
      "   [2 2 0]]\n",
      "\n",
      "  [[3 1 2]\n",
      "   [3 4 2]\n",
      "   [2 0 3]]]\n",
      "\n",
      "\n",
      " [[[4 1 0]\n",
      "   [2 4 0]\n",
      "   [2 1 1]]\n",
      "\n",
      "  [[1 0 1]\n",
      "   [4 0 1]\n",
      "   [1 1 2]]\n",
      "\n",
      "  [[0 1 3]\n",
      "   [0 1 2]\n",
      "   [1 2 2]]\n",
      "\n",
      "  [[1 3 4]\n",
      "   [1 2 0]\n",
      "   [2 2 1]]\n",
      "\n",
      "  [[3 4 4]\n",
      "   [2 0 2]\n",
      "   [2 1 2]]\n",
      "\n",
      "  [[4 4 3]\n",
      "   [0 2 2]\n",
      "   [1 2 0]]\n",
      "\n",
      "  [[4 3 4]\n",
      "   [2 2 0]\n",
      "   [2 0 0]]\n",
      "\n",
      "  [[3 4 2]\n",
      "   [2 0 3]\n",
      "   [0 0 0]]]\n",
      "\n",
      "\n",
      " [[[2 4 0]\n",
      "   [2 1 1]\n",
      "   [2 3 1]]\n",
      "\n",
      "  [[4 0 1]\n",
      "   [1 1 2]\n",
      "   [3 1 4]]\n",
      "\n",
      "  [[0 1 2]\n",
      "   [1 2 2]\n",
      "   [1 4 1]]\n",
      "\n",
      "  [[1 2 0]\n",
      "   [2 2 1]\n",
      "   [4 1 2]]\n",
      "\n",
      "  [[2 0 2]\n",
      "   [2 1 2]\n",
      "   [1 2 1]]\n",
      "\n",
      "  [[0 2 2]\n",
      "   [1 2 0]\n",
      "   [2 1 1]]\n",
      "\n",
      "  [[2 2 0]\n",
      "   [2 0 0]\n",
      "   [1 1 1]]\n",
      "\n",
      "  [[2 0 3]\n",
      "   [0 0 0]\n",
      "   [1 1 0]]]\n",
      "\n",
      "\n",
      " [[[2 1 1]\n",
      "   [2 3 1]\n",
      "   [3 4 4]]\n",
      "\n",
      "  [[1 1 2]\n",
      "   [3 1 4]\n",
      "   [4 4 0]]\n",
      "\n",
      "  [[1 2 2]\n",
      "   [1 4 1]\n",
      "   [4 0 3]]\n",
      "\n",
      "  [[2 2 1]\n",
      "   [4 1 2]\n",
      "   [0 3 0]]\n",
      "\n",
      "  [[2 1 2]\n",
      "   [1 2 1]\n",
      "   [3 0 0]]\n",
      "\n",
      "  [[1 2 0]\n",
      "   [2 1 1]\n",
      "   [0 0 3]]\n",
      "\n",
      "  [[2 0 0]\n",
      "   [1 1 1]\n",
      "   [0 3 0]]\n",
      "\n",
      "  [[0 0 0]\n",
      "   [1 1 0]\n",
      "   [3 0 1]]]]\n"
     ]
    }
   ],
   "source": [
    "#### 84. Extract all the contiguous 3x3 blocks from a random 10x10 matrix (★★★)\n",
    "from numpy.lib import stride_tricks\n",
    "\n",
    "Z = np.random.randint(0,5,(10,10))\n",
    "n = 3\n",
    "i = 1 + (Z.shape[0]-3)\n",
    "j = 1 + (Z.shape[1]-3)\n",
    "C = stride_tricks.as_strided(Z, shape=(i, j, n, n), strides=Z.strides + Z.strides)\n",
    "print(C)"
   ]
  },
  {
   "cell_type": "code",
   "execution_count": 232,
   "id": "4b79be12-66c9-4a39-b8b3-59272aada4d0",
   "metadata": {},
   "outputs": [
    {
     "name": "stdout",
     "output_type": "stream",
     "text": [
      "[-0.0526576   0.33748339]\n"
     ]
    }
   ],
   "source": [
    "#### 100. Compute bootstrapped 95% confidence intervals for the mean of a 1D array X (i.e., resample the elements of an array with replacement N times, compute the mean of each sample, and then compute percentiles over the means). (★★★)\n",
    "\n",
    "X = np.random.randn(100) # random 1D array\n",
    "N = 1000 # number of bootstrap samples\n",
    "idx = np.random.randint(0, X.size, (N, X.size))\n",
    "means = X[idx].mean(axis=1)\n",
    "confint = np.percentile(means, [2.5, 97.5])\n",
    "print(confint)"
   ]
  },
  {
   "cell_type": "code",
   "execution_count": 233,
   "id": "3dd511a7-1c7d-4124-a1f8-1680fa891446",
   "metadata": {},
   "outputs": [],
   "source": [
    "# https://codesolid.com/numpy-practice-questions-to-make-you-an-expert/"
   ]
  },
  {
   "cell_type": "code",
   "execution_count": 234,
   "id": "a4534202-2b8d-4e66-b09c-64da14e9e358",
   "metadata": {},
   "outputs": [
    {
     "data": {
      "text/plain": [
       "array([ 10,  20,  30,  40,  50,  60,  70,  80,  90, 100])"
      ]
     },
     "execution_count": 234,
     "metadata": {},
     "output_type": "execute_result"
    }
   ],
   "source": [
    "np.arange(10, 101, 10)"
   ]
  },
  {
   "cell_type": "code",
   "execution_count": 237,
   "id": "3845341c-32d7-4141-a38d-5477f9fdd68f",
   "metadata": {},
   "outputs": [
    {
     "data": {
      "text/plain": [
       "array([ 10,  20,  30,  40,  50,  60,  70,  80,  90, 100])"
      ]
     },
     "execution_count": 237,
     "metadata": {},
     "output_type": "execute_result"
    }
   ],
   "source": [
    "np.array(list(range(10, 101, 10)))"
   ]
  },
  {
   "cell_type": "code",
   "execution_count": 239,
   "id": "916073a2-b018-4741-9947-57fe212539dd",
   "metadata": {},
   "outputs": [
    {
     "data": {
      "text/plain": [
       "array([], dtype=float64)"
      ]
     },
     "execution_count": 239,
     "metadata": {},
     "output_type": "execute_result"
    }
   ],
   "source": [
    "np.array([])"
   ]
  },
  {
   "cell_type": "code",
   "execution_count": 240,
   "id": "99ed3563-3363-403f-b921-fe0a09380b13",
   "metadata": {},
   "outputs": [
    {
     "data": {
      "text/plain": [
       "array([0., 0., 0., 0., 0., 0., 0., 0., 0., 0.])"
      ]
     },
     "execution_count": 240,
     "metadata": {},
     "output_type": "execute_result"
    }
   ],
   "source": [
    "np.zeros(10)"
   ]
  },
  {
   "cell_type": "code",
   "execution_count": 241,
   "id": "9b886915-7cce-4b96-ac8a-8892b9835cd2",
   "metadata": {},
   "outputs": [
    {
     "data": {
      "text/plain": [
       "dtype('float64')"
      ]
     },
     "execution_count": 241,
     "metadata": {},
     "output_type": "execute_result"
    }
   ],
   "source": [
    "np.zeros(10).dtype"
   ]
  },
  {
   "cell_type": "code",
   "execution_count": 242,
   "id": "e65af2af-02e2-4522-950c-8ddfc68ec7a8",
   "metadata": {},
   "outputs": [
    {
     "data": {
      "text/plain": [
       "array([1., 1., 1., 1., 1., 1., 1., 1., 1., 1.])"
      ]
     },
     "execution_count": 242,
     "metadata": {},
     "output_type": "execute_result"
    }
   ],
   "source": [
    "np.ones(10)"
   ]
  },
  {
   "cell_type": "code",
   "execution_count": 244,
   "id": "0c653e9d-0ec9-41a5-9b36-9204b1b22c94",
   "metadata": {},
   "outputs": [
    {
     "data": {
      "text/plain": [
       "array([1, 2, 2, 4, 1, 4, 4, 5, 4, 3])"
      ]
     },
     "execution_count": 244,
     "metadata": {},
     "output_type": "execute_result"
    }
   ],
   "source": [
    "np.random.randint(1, 6, size=(10))"
   ]
  },
  {
   "cell_type": "code",
   "execution_count": 249,
   "id": "d70d475e-edb7-4198-ba4c-077954228d24",
   "metadata": {},
   "outputs": [
    {
     "data": {
      "text/plain": [
       "array([5.88073868, 6.95136762, 4.77798286, 3.98782501, 5.17892018,\n",
       "       2.92360922, 5.16340774, 5.98950406, 5.41287227, 4.42685822])"
      ]
     },
     "execution_count": 249,
     "metadata": {},
     "output_type": "execute_result"
    }
   ],
   "source": [
    "np.random.normal(5, 1, size=10)"
   ]
  },
  {
   "cell_type": "code",
   "execution_count": 250,
   "id": "9df6c381-91b3-442c-bb86-c213a04ea704",
   "metadata": {},
   "outputs": [
    {
     "data": {
      "text/plain": [
       "array([0.07792712, 0.34109391, 0.82197184, 0.55643867, 0.67474359,\n",
       "       0.35219041, 0.2054187 , 0.21749654, 0.22059225, 0.41421227])"
      ]
     },
     "execution_count": 250,
     "metadata": {},
     "output_type": "execute_result"
    }
   ],
   "source": [
    "np.random.random((10))"
   ]
  },
  {
   "cell_type": "code",
   "execution_count": 251,
   "id": "22b3639b-c17b-443f-997e-ee89053ff552",
   "metadata": {},
   "outputs": [
    {
     "data": {
      "text/plain": [
       "array([0.48145187, 0.49396913, 0.27460776, 0.97661033, 0.09095617,\n",
       "       0.25018186, 0.04796971, 0.41294137, 0.65269706, 0.11907916])"
      ]
     },
     "execution_count": 251,
     "metadata": {},
     "output_type": "execute_result"
    }
   ],
   "source": [
    "np.random.rand((10))"
   ]
  },
  {
   "cell_type": "code",
   "execution_count": null,
   "id": "93cf4035-9106-4361-917e-0917633c0c1c",
   "metadata": {},
   "outputs": [],
   "source": []
  }
 ],
 "metadata": {
  "kernelspec": {
   "display_name": "scrap",
   "language": "python",
   "name": "scrap"
  },
  "language_info": {
   "codemirror_mode": {
    "name": "ipython",
    "version": 3
   },
   "file_extension": ".py",
   "mimetype": "text/x-python",
   "name": "python",
   "nbconvert_exporter": "python",
   "pygments_lexer": "ipython3",
   "version": "3.9.14"
  }
 },
 "nbformat": 4,
 "nbformat_minor": 5
}
