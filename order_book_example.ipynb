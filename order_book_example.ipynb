{
 "cells": [
  {
   "cell_type": "code",
   "execution_count": 7,
   "id": "f4925c54-884f-45a4-8cb1-5691cf845b03",
   "metadata": {},
   "outputs": [],
   "source": [
    "from dataclasses import dataclass\n",
    "from datetime import datetime"
   ]
  },
  {
   "cell_type": "code",
   "execution_count": 8,
   "id": "2e3dc62d-d905-4853-9ff2-714259ba5ec0",
   "metadata": {},
   "outputs": [],
   "source": [
    "@dataclass\n",
    "class Bid:\n",
    "    price: float\n",
    "    qty: int\n",
    "    time: datetime\n",
    "    \n",
    "@dataclass\n",
    "class Ask:\n",
    "    price: float\n",
    "    qty: int\n",
    "    time: datetime"
   ]
  },
  {
   "cell_type": "code",
   "execution_count": 9,
   "id": "3893bafd-7b8a-43e4-854f-407df7b19857",
   "metadata": {},
   "outputs": [
    {
     "data": {
      "text/plain": [
       "Ask(price=4, qty=100, time=datetime.datetime(2022, 5, 21, 14, 49, 28, 983817))"
      ]
     },
     "execution_count": 9,
     "metadata": {},
     "output_type": "execute_result"
    }
   ],
   "source": [
    "Ask(4, 100, datetime.today())"
   ]
  },
  {
   "cell_type": "code",
   "execution_count": 11,
   "id": "283ef547-21d9-4bd1-9f31-9ee1d7a5c8bd",
   "metadata": {},
   "outputs": [],
   "source": [
    "# An Order Book is just a Sorted List (according to price) of Bids and Asks (which are placed via a Limit Order).\n",
    "\n",
    "# use np.searchsorted()?"
   ]
  },
  {
   "cell_type": "code",
   "execution_count": 14,
   "id": "831c08b0-e7e7-49a1-af09-4619f20398de",
   "metadata": {},
   "outputs": [],
   "source": [
    "class OrderBook():\n",
    "    def __init__(self, asks, bids):\n",
    "        self.asks = asks or []\n",
    "        self.bids = bids or []\n",
    "        \n",
    "    def append_ask(self, ask):\n",
    "        self.asks.append(ask)\n",
    "    \n",
    "    def append_bid(self, bid):\n",
    "        self.bids.append(bid)\n",
    "\n",
    "    def append_order(self, order):\n",
    "        pass\n",
    "    \n",
    "    def match_bid(self, bid):\n",
    "        pass\n",
    "    \n",
    "    def match_ask(self, ask):\n",
    "        pass\n",
    "    \n",
    "    def match_order(self, order):\n",
    "        pass\n",
    "    \n",
    "    def graph(self):\n",
    "        pass"
   ]
  },
  {
   "cell_type": "code",
   "execution_count": null,
   "id": "6b372813-bb96-4f0c-9f47-2f305a6623b0",
   "metadata": {},
   "outputs": [],
   "source": []
  }
 ],
 "metadata": {
  "kernelspec": {
   "display_name": "scrap",
   "language": "python",
   "name": "scrap"
  },
  "language_info": {
   "codemirror_mode": {
    "name": "ipython",
    "version": 3
   },
   "file_extension": ".py",
   "mimetype": "text/x-python",
   "name": "python",
   "nbconvert_exporter": "python",
   "pygments_lexer": "ipython3",
   "version": "3.9.12"
  }
 },
 "nbformat": 4,
 "nbformat_minor": 5
}
