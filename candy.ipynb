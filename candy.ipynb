{
 "cells": [
  {
   "cell_type": "code",
   "execution_count": 4,
   "metadata": {},
   "outputs": [],
   "source": [
    "import numpy as np\n",
    "import seaborn as sns"
   ]
  },
  {
   "cell_type": "code",
   "execution_count": 8,
   "metadata": {},
   "outputs": [
    {
     "name": "stdout",
     "output_type": "stream",
     "text": [
      "36.936\n"
     ]
    }
   ],
   "source": [
    "tot_ev = 0\n",
    "n = 500\n",
    "\n",
    "for _ in range(n):\n",
    "    candy = 150\n",
    "    ev = 0 \n",
    "    kids = np.random.randint(50, 151)\n",
    "    \n",
    "    for kid in range(kids):\n",
    "        treats = np.random.randint(1, 4)\n",
    "\n",
    "        if candy < treats:\n",
    "            treats = candy\n",
    "\n",
    "        # candy should never go below 0\n",
    "        candy -= treats\n",
    "\n",
    "        if candy == 0:\n",
    "            ev = kids - kid + 1\n",
    "            break\n",
    "\n",
    "\n",
    "    if candy > 0:\n",
    "        ev = candy\n",
    "\n",
    "    tot_ev += ev\n",
    "\n",
    "print(tot_ev / n)"
   ]
  },
  {
   "cell_type": "markdown",
   "metadata": {},
   "source": [
    "This seems like a dynamic programming problem - if you go 3 treats than 1 treat its the same as going 2 treats then 2 treats. Also for each state if you give 1, 2, 3 treats you will have an expected value from those treats. You select the action that has the minimum expected value and then work backwards."
   ]
  },
  {
   "cell_type": "markdown",
   "metadata": {},
   "source": []
  }
 ],
 "metadata": {
  "kernelspec": {
   "display_name": "Python 3.10.8 ('venv': venv)",
   "language": "python",
   "name": "python3"
  },
  "language_info": {
   "codemirror_mode": {
    "name": "ipython",
    "version": 3
   },
   "file_extension": ".py",
   "mimetype": "text/x-python",
   "name": "python",
   "nbconvert_exporter": "python",
   "pygments_lexer": "ipython3",
   "version": "3.10.8"
  },
  "orig_nbformat": 4,
  "vscode": {
   "interpreter": {
    "hash": "326ffc9b23e6ac412a64b9bdb42adfbc194a15086b6462217ccd3a0217070709"
   }
  }
 },
 "nbformat": 4,
 "nbformat_minor": 2
}
